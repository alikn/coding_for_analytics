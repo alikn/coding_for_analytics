{
 "cells": [
  {
   "cell_type": "markdown",
   "metadata": {},
   "source": [
    "[![Open In Colab](https://colab.research.google.com/assets/colab-badge.svg)](https://colab.research.google.com/github/alikn/coding_for_analytics/blob/main/llm/2_ai_agents.ipynb)"
   ]
  },
  {
   "cell_type": "markdown",
   "metadata": {},
   "source": [
    "Some of the material in this notebook is inspired by Deeplearning.ai's [Multi AI Agent Systems with CrewAI](https://www.deeplearning.ai/short-courses/multi-ai-agent-systems-with-crewai/)."
   ]
  },
  {
   "cell_type": "code",
   "execution_count": null,
   "metadata": {},
   "outputs": [],
   "source": [
    "%pip install -q \"crewai[tools]\"  langchain_community"
   ]
  },
  {
   "cell_type": "code",
   "execution_count": null,
   "metadata": {},
   "outputs": [],
   "source": [
    "openai_api_key = '' # @param {type:\"string\"}\n",
    "serper_api_key = '' # @param {type:\"string\"}"
   ]
  },
  {
   "cell_type": "markdown",
   "metadata": {},
   "source": [
    "# Introduction to AI Agents \n",
    "\n",
    "## What are AI Agents ?\n",
    "\n",
    "AI agents  are specialized systems that utilize large language models (LLMs) and other AI tools to perform tasks autonomously or semi-autonomously. These agents are designed to handle complex workflows by breaking down tasks into smaller steps, executing them, and making decisions based on the results. They often work collaboratively with other agents or tools to achieve specific objectives, enabling more dynamic and efficient problem-solving.\n",
    "\n",
    "### Key Characteristics of AI Agents :\n",
    "\n",
    "- **Autonomy:** These agents can independently make decisions and take actions without constant human oversight.\n",
    "  \n",
    "- **Modularity:** They are composed of modular components that can be customized and combined to create different workflows and capabilities.\n",
    "\n",
    "- **Interactivity:** Agents can interact with each other and external systems, APIs, or databases to gather information, process data, and execute tasks.\n",
    "\n",
    "- **Adaptability:** They learn from their actions and adapt their behavior over time, improving their effectiveness and efficiency.\n",
    "\n",
    "## How Do AI Agents  Work?\n",
    "\n",
    "AI agents  leverage LLMs, such as GPT-4 or similar models, along with other tools and frameworks, to perform tasks. Here’s a general overview of how they work:\n",
    "\n",
    "### 1. Task Decomposition:\n",
    "The primary function of these agents is to decompose complex tasks into manageable sub-tasks. For instance, if given a goal like \"create a marketing plan,\" the agent breaks it down into smaller tasks such as research, content creation, and scheduling.\n",
    "\n",
    "### 2. Collaboration Between Agents:\n",
    "Multiple agents can work together to accomplish a goal. For example, one agent might be responsible for research, another for writing, and yet another for analysis. These agents communicate and share data to achieve the overall objective.\n",
    "\n",
    "### 3. Execution and Monitoring:\n",
    "Agents execute their assigned tasks autonomously, calling APIs, processing data, generating content, and more. They monitor progress, detect errors or roadblocks, and make adjustments to their actions based on feedback or predefined rules.\n",
    "\n",
    "### 4. Feedback Loop and Learning:\n",
    "After completing a task, agents analyze the outcomes, learn from any errors, and refine their strategies for future tasks. This learning process can be guided by reinforcement learning or human feedback.\n",
    "\n",
    "## Examples of AI Agents \n",
    "\n",
    "1. **CrewAI:** A platform for creating multi-agent systems where each agent specializes in a particular function, such as writing, coding, or researching. CrewAI allows agents to collaborate, delegate tasks, and achieve complex objectives with minimal human intervention.\n",
    "\n",
    "2. **LangGraph:** A framework for building language-based agents that can interact with each other and external systems using natural language. LangGraph agents are designed to handle complex decision-making processes and can be configured to work together on various tasks.\n",
    "\n",
    "3. **AutoGen (by Microsoft):** A framework that enables developers to create autonomous AI agents that interact with LLMs, tools, and each other. AutoGen facilitates complex workflows, such as automating business processes, coding, or generating reports, using agentic patterns.\n",
    "\n",
    "## Applications of AI Agents \n",
    "\n",
    "- **Business Process Automation:** Automating routine business tasks like data entry, report generation, and customer support, freeing up human resources for more strategic roles.\n",
    "\n",
    "- **Research and Development:** Assisting researchers by autonomously collecting and analyzing data, generating summaries, or suggesting hypotheses.\n",
    "\n",
    "- **Content Creation:** Generating creative content such as articles, marketing copy, or social media posts by collaborating with specialized agents.\n",
    "\n",
    "- **Software Development:** Automating parts of the software development process, such as writing code, testing, debugging, and generating documentation.\n"
   ]
  },
  {
   "cell_type": "markdown",
   "metadata": {},
   "source": [
    "# How do AI agents help with using the LLMs power?\n",
    "\n",
    "Let's start by an example:\n",
    "\n",
    "## Example: Generating Social Media Posts with AI Agents\n",
    "\n",
    "Imagine you are a social media manager for a company, and your goal is to create engaging social media content for an upcoming product launch. Instead of manually writing each post, you want to use LLMs to generate multiple posts quickly and efficiently. Let’s see how this can work in practice.\n",
    "\n",
    "### Step-by-Step: Using LLMs to Generate Social Media Posts\n",
    "\n",
    "#### **Step 1: Define the Task**\n",
    "\n",
    "First, define the overall task. In this case, our task is to generate social media posts about a new product, let’s say a \"Smart Fitness Tracker.\"\n",
    "\n",
    "You could prompt the LLM with:\n",
    "\n",
    "- **Prompt 1:** *\"Create a series of 5 social media posts promoting a new Smart Fitness Tracker. The posts should highlight its key features, benefits, and a call to action.\"*\n",
    "\n",
    "#### **Step 2: Break Down the Task into Smaller Tasks**\n",
    "\n",
    "Next, you decompose the overall task into smaller, manageable sub-tasks. For example:\n",
    "\n",
    "1. **Research:** Gather information on the Smart Fitness Tracker, such as features, benefits, pricing, and target audience.\n",
    "2. **Writing:** Use this information to draft multiple versions of social media posts tailored to different platforms (Twitter, Instagram, LinkedIn, etc.).\n",
    "3. **Review:** Review the content for coherence, grammar, and tone, ensuring each post aligns with the brand's voice.\n",
    "\n",
    "#### **Step 3: Generate Content Using LLM Prompts**\n",
    "\n",
    "Now, you perform the task using specific prompts:\n",
    "\n",
    "- **Research Prompt:** *\"List the key features and benefits of the Smart Fitness Tracker, focusing on what makes it unique in the market.\"*\n",
    "  \n",
    "  - *LLM Output:* \"Features: Heart rate monitor, sleep analysis, water-resistant, 10-day battery life. Benefits: Improve health insights, track daily activities, stay connected with notifications, user-friendly interface.\"\n",
    "\n",
    "- **Writing Prompts:** Based on the research output, you create these prompts:\n",
    "\n",
    "  - **Prompt 2 for Twitter:** *\"Write a tweet announcing the launch of the Smart Fitness Tracker, highlighting its 10-day battery life and heart rate monitor. Include a call to action to visit the website.\"*\n",
    "\n",
    "    - *LLM Output:* \"Stay on top of your fitness game with our new Smart Fitness Tracker! 🚀 Track your heart rate, analyze sleep patterns, and enjoy a 10-day battery life. Ready to level up? Visit [ourwebsite.com] to learn more! 💪 #FitnessGoals #TechLaunch\"\n",
    "\n",
    "  - **Prompt 3 for Instagram:** *\"Create an Instagram caption for a photo showcasing the Smart Fitness Tracker, focusing on its water-resistant feature and stylish design.\"*\n",
    "\n",
    "    - *LLM Output:* \"Dive into style and performance with our new Smart Fitness Tracker! 🌊💧 Whether you're sweating it out or caught in the rain, our water-resistant design has you covered. Who says fitness can’t be fashionable? 😉 #FitnessInStyle #SmartTech #StayActive\"\n",
    "\n",
    "  - **Prompt 4 for LinkedIn:** *\"Write a professional LinkedIn post highlighting the Smart Fitness Tracker's health benefits for corporate employees. Include a call to action to contact sales for bulk orders.\"*\n",
    "\n",
    "    - *LLM Output:* \"Introducing the Smart Fitness Tracker – a game-changer for corporate wellness! Monitor your health with real-time insights and empower employees to achieve their fitness goals. Ready to boost your team’s health and productivity? Contact us for bulk orders today! #CorporateWellness #EmployeeHealth #Innovation\"\n",
    "\n",
    "- **Review Prompt:** *\"Review these social media posts for tone, grammar, and consistency with the brand voice. Make any necessary edits.\"*\n",
    "\n",
    "    - *LLM Output:* [Provides revised versions or feedback on each post.]\n",
    "\n",
    "#### **Step 4: Finalize and Deploy**\n",
    "\n",
    "After the review, you finalize the social media posts and prepares them for deployment. It can also schedule the posts at optimal times to maximize engagement, using insights gathered from past performance data or platform-specific analytics.\n",
    "\n",
    "\n",
    "As you can see, there are a lot of back and forth with using LLM output at each step which you'd have to do again, if you pick another topic. AI agents help us automate this process.\n"
   ]
  },
  {
   "cell_type": "markdown",
   "metadata": {},
   "source": [
    "# CrewAI\n",
    "- Define your Agents, and provide them a role, goal and backstory.\n",
    "- It has been seen that LLMs perform better when they are role playing."
   ]
  },
  {
   "cell_type": "code",
   "execution_count": null,
   "metadata": {},
   "outputs": [],
   "source": [
    "from crewai import Agent, Task, Crew\n",
    "import os"
   ]
  },
  {
   "cell_type": "code",
   "execution_count": null,
   "metadata": {},
   "outputs": [],
   "source": [
    "os.environ[\"OPENAI_MODEL_NAME\"] = \"gpt-4o-mini-2024-07-18\"\n",
    "os.environ[\"OPENAI_API_KEY\"] = openai_api_key\n",
    "os.environ[\"SERPER_API_KEY\"] = serper_api_key"
   ]
  },
  {
   "cell_type": "markdown",
   "metadata": {},
   "source": [
    "## Core CrewAI concepts\n",
    "### Agent\n",
    "#### Definition:\n",
    "An Agent in CrewAI is an autonomous or semi-autonomous entity designed to perform specific functions or roles within a multi-agent system. Each Agent has its own set of capabilities and responsibilities.\n",
    "#### Characteristics:\n",
    "- Specialization: Agents are typically specialized in performing certain types of tasks. For example, one Agent might be focused on content generation, while another handles data analysis.\n",
    "- Autonomy: Agents can operate independently to execute their assigned functions but may also collaborate with other Agents.\n",
    "- Adaptability: Agents can learn from interactions and feedback to improve their performance over time.\n",
    "\n",
    "#### Example:\n",
    "As a running example, let's create a crew which can plan and write blog posts about a given topic."
   ]
  },
  {
   "cell_type": "code",
   "execution_count": null,
   "metadata": {},
   "outputs": [],
   "source": [
    "planner = Agent(\n",
    "    role=\"Content Planner\",\n",
    "    goal=\"Plan engaging and factually accurate content on {topic}\",\n",
    "    backstory=\"You're working on planning a blog article \"\n",
    "              \"about the topic: {topic}.\"\n",
    "              \"You collect information that helps the \"\n",
    "              \"audience learn something \"\n",
    "              \"and make informed decisions. \"\n",
    "              \"Your work is the basis for \"\n",
    "              \"the Content Writer to write an article on this topic.\",\n",
    "    allow_delegation=False,\n",
    "\tverbose=True\n",
    ")"
   ]
  },
  {
   "cell_type": "code",
   "execution_count": null,
   "metadata": {},
   "outputs": [],
   "source": [
    "writer = Agent(\n",
    "    role=\"Content Writer\",\n",
    "    goal=\"Write insightful and factually accurate \"\n",
    "         \"opinion piece about the topic: {topic}\",\n",
    "    backstory=\"You're working on a writing \"\n",
    "              \"a new opinion piece about the topic: {topic}. \"\n",
    "              \"You base your writing on the work of \"\n",
    "              \"the Content Planner, who provides an outline \"\n",
    "              \"and relevant context about the topic. \"\n",
    "              \"You follow the main objectives and \"\n",
    "              \"direction of the outline, \"\n",
    "              \"as provide by the Content Planner. \"\n",
    "              \"You also provide objective and impartial insights \"\n",
    "              \"and back them up with information \"\n",
    "              \"provide by the Content Planner. \"\n",
    "              \"You acknowledge in your opinion piece \"\n",
    "              \"when your statements are opinions \"\n",
    "              \"as opposed to objective statements.\",\n",
    "    allow_delegation=False,\n",
    "    verbose=True\n",
    ")"
   ]
  },
  {
   "cell_type": "code",
   "execution_count": null,
   "metadata": {},
   "outputs": [],
   "source": [
    "editor = Agent(\n",
    "    role=\"Editor\",\n",
    "    goal=\"Edit a given blog post to align with \"\n",
    "         \"the writing style of the organization. \",\n",
    "    backstory=\"You are an editor who receives a blog post \"\n",
    "              \"from the Content Writer. \"\n",
    "              \"Your goal is to review the blog post \"\n",
    "              \"to ensure that it follows journalistic best practices,\"\n",
    "              \"provides balanced viewpoints \"\n",
    "              \"when providing opinions or assertions, \"\n",
    "              \"and also avoids major controversial topics \"\n",
    "              \"or opinions when possible.\",\n",
    "    allow_delegation=False,\n",
    "    verbose=True\n",
    ")"
   ]
  },
  {
   "cell_type": "markdown",
   "metadata": {},
   "source": [
    "### Task\n",
    "#### Definition:\n",
    "A Task in CrewAI represents a specific job or activity that needs to be completed within a workflow. Tasks are assigned to Agents based on their capabilities and the needs of the project.\n",
    "\n",
    "#### Characteristics:\n",
    "- Specificity: Tasks are clearly defined with specific objectives and criteria for completion.\n",
    "- Delegation: Tasks are assigned to Agents who have the relevant expertise to handle them.\n",
    "- Tracking: The progress and outcomes of Tasks can be monitored to ensure successful completion.\n",
    "#### Example:\n",
    "In a content creation project, you might have the following Tasks:\n",
    "\n",
    "- Research Task: Gather information about the target audience and market trends.\n",
    "- Writing Task: Draft the content based on the research findings.\n",
    "- Editing Task: Review and polish the content for quality and coherence."
   ]
  },
  {
   "cell_type": "code",
   "execution_count": null,
   "metadata": {},
   "outputs": [],
   "source": [
    "plan = Task(\n",
    "    description=(\n",
    "        \"1. Prioritize the latest trends, key players, \"\n",
    "            \"and noteworthy news on {topic}.\\n\"\n",
    "        \"2. Identify the target audience, considering \"\n",
    "            \"their interests and pain points.\\n\"\n",
    "        \"3. Develop a detailed content outline including \"\n",
    "            \"an introduction, key points, and a call to action.\\n\"\n",
    "        \"4. Include SEO keywords and relevant data or sources.\"\n",
    "    ),\n",
    "    expected_output=\"A comprehensive content plan document \"\n",
    "        \"with an outline, audience analysis, \"\n",
    "        \"SEO keywords, and resources.\",\n",
    "    agent=planner,\n",
    ")"
   ]
  },
  {
   "cell_type": "code",
   "execution_count": null,
   "metadata": {},
   "outputs": [],
   "source": [
    "write = Task(\n",
    "    description=(\n",
    "        \"1. Use the content plan to craft a compelling \"\n",
    "            \"blog post on {topic}.\\n\"\n",
    "        \"2. Incorporate SEO keywords naturally.\\n\"\n",
    "\t\t\"3. Sections/Subtitles are properly named \"\n",
    "            \"in an engaging manner.\\n\"\n",
    "        \"4. Ensure the post is structured with an \"\n",
    "            \"engaging introduction, insightful body, \"\n",
    "            \"and a summarizing conclusion.\\n\"\n",
    "        \"5. Proofread for grammatical errors and \"\n",
    "            \"alignment with the brand's voice.\\n\"\n",
    "    ),\n",
    "    expected_output=\"A well-written blog post \"\n",
    "        \"in markdown format, ready for publication, \"\n",
    "        \"each section should have 2 or 3 paragraphs.\",\n",
    "    agent=writer,\n",
    ")"
   ]
  },
  {
   "cell_type": "code",
   "execution_count": null,
   "metadata": {},
   "outputs": [],
   "source": [
    "edit = Task(\n",
    "    description=(\"Proofread the given blog post for \"\n",
    "                 \"grammatical errors and \"\n",
    "                 \"alignment with the brand's voice.\"),\n",
    "    expected_output=\"A well-written blog post in markdown format, \"\n",
    "                    \"ready for publication, \"\n",
    "                    \"each section should have 2 or 3 paragraphs.\",\n",
    "    agent=editor\n",
    ")"
   ]
  },
  {
   "cell_type": "markdown",
   "metadata": {},
   "source": [
    "### Crew\n",
    "#### Definition:\n",
    "A Crew in CrewAI is a group of Agents working together to achieve a common goal. Crews are composed of multiple Agents, each contributing their specialized skills to complete a complex workflow.\n",
    "\n",
    "#### Characteristics:\n",
    "- Collaboration: Agents within a Crew collaborate and communicate to coordinate their efforts and achieve the shared objective.\n",
    "- Integration: Crews integrate various Agents’ outputs to produce a cohesive result.\n",
    "- Flexibility: Crews can be dynamic, with Agents being added or removed based on the project’s needs."
   ]
  },
  {
   "cell_type": "code",
   "execution_count": null,
   "metadata": {},
   "outputs": [],
   "source": [
    "crew = Crew(\n",
    "    agents=[planner, writer, editor],\n",
    "    tasks=[plan, write, edit],\n",
    "    verbose=True\n",
    ")"
   ]
  },
  {
   "cell_type": "code",
   "execution_count": null,
   "metadata": {},
   "outputs": [],
   "source": [
    "result = crew.kickoff(inputs={\"topic\": \"Artificial Intelligence\"})"
   ]
  },
  {
   "cell_type": "code",
   "execution_count": null,
   "metadata": {},
   "outputs": [],
   "source": [
    "from IPython.display import Markdown\n",
    "Markdown(result.raw)"
   ]
  },
  {
   "cell_type": "markdown",
   "metadata": {},
   "source": [
    "### Tool\n",
    "#### Definition:\n",
    "A Tool in CrewAI is a resource or utility that Agents use to perform their Tasks. Tools can include software applications, APIs, databases, or any other resources that aid in executing tasks effectively.\n",
    "\n",
    "#### Characteristics:\n",
    "- Utility: Tools provide essential functionalities that enhance the Agents’ ability to complete their Tasks.\n",
    "- Integration: Tools can be integrated with Agents to streamline workflows and automate processes.\n",
    "\n",
    "#### Example:\n",
    "- SerperDevTool (web search using [serper.dev](https://serper.dev/))\n",
    "- FileReadTool\n",
    "- ScrapeWebsiteTool"
   ]
  },
  {
   "cell_type": "markdown",
   "metadata": {},
   "source": [
    "Let's update our social media content generator and allow it to scrape websites. As an example, let's ask the crew to create a blog post about the MSIS program at Menlo college."
   ]
  },
  {
   "cell_type": "code",
   "execution_count": null,
   "metadata": {},
   "outputs": [],
   "source": [
    "from crewai_tools import ScrapeWebsiteTool"
   ]
  },
  {
   "cell_type": "code",
   "execution_count": null,
   "metadata": {},
   "outputs": [],
   "source": [
    "docs_scrape_tool = ScrapeWebsiteTool(\n",
    "    website_url=\"https://www.menlo.edu/ms-information-systems/\"\n",
    ")"
   ]
  },
  {
   "cell_type": "code",
   "execution_count": null,
   "metadata": {},
   "outputs": [],
   "source": [
    "plan = Task(\n",
    "    description=(\n",
    "        \"1. Prioritize the latest trends, key players, \"\n",
    "            \"and noteworthy news on {topic}.\\n\"\n",
    "        \"2. Identify the target audience, considering \"\n",
    "            \"their interests and pain points.\\n\"\n",
    "        \"3. Develop a detailed content outline including \"\n",
    "            \"an introduction, key points, and a call to action.\\n\"\n",
    "        \"4. Include SEO keywords and relevant data or sources.\"\n",
    "    ),\n",
    "    expected_output=\"A comprehensive content plan document \"\n",
    "        \"with an outline, audience analysis, \"\n",
    "        \"SEO keywords, and resources.\",\n",
    "    tools=[docs_scrape_tool],\n",
    "    agent=planner,\n",
    ")"
   ]
  },
  {
   "cell_type": "code",
   "execution_count": null,
   "metadata": {},
   "outputs": [],
   "source": [
    "crew = Crew(\n",
    "    agents=[planner, writer, editor],\n",
    "    tasks=[plan, write, edit],\n",
    "    verbose=True\n",
    ")"
   ]
  },
  {
   "cell_type": "code",
   "execution_count": null,
   "metadata": {},
   "outputs": [],
   "source": [
    "result = crew.kickoff(inputs={\"topic\": \"Menlo college Master of Science in Information Systems\"})"
   ]
  },
  {
   "cell_type": "markdown",
   "metadata": {},
   "source": [
    "### Search tool\n",
    "Agents can use search on the internet through [serper.dev](http://serper.dev) tool.\n",
    "\n",
    "Let's modify our previous crew, but this time rather than giving a specific url to the agents, give them the ability to search themseleves."
   ]
  },
  {
   "cell_type": "code",
   "execution_count": null,
   "metadata": {},
   "outputs": [],
   "source": [
    "from crewai_tools import SerperDevTool"
   ]
  },
  {
   "cell_type": "code",
   "execution_count": null,
   "metadata": {},
   "outputs": [],
   "source": [
    "search_tool = SerperDevTool()\n",
    "docs_scrape_tool = ScrapeWebsiteTool()"
   ]
  },
  {
   "cell_type": "code",
   "execution_count": null,
   "metadata": {},
   "outputs": [],
   "source": [
    "plan = Task(\n",
    "    description=(\n",
    "        \"1. Prioritize the latest trends, key players, \"\n",
    "            \"and noteworthy news on {topic}.\\n\"\n",
    "        \"2. Identify the target audience, considering \"\n",
    "            \"their interests and pain points.\\n\"\n",
    "        \"3. Develop a detailed content outline including \"\n",
    "            \"an introduction, key points, and a call to action.\\n\"\n",
    "        \"4. Include SEO keywords and relevant data or sources.\"\n",
    "    ),\n",
    "    expected_output=\"A comprehensive content plan document \"\n",
    "        \"with an outline, audience analysis, \"\n",
    "        \"SEO keywords, and resources.\",\n",
    "    tools=[search_tool, docs_scrape_tool],\n",
    "    agent=planner,\n",
    ")"
   ]
  },
  {
   "cell_type": "code",
   "execution_count": null,
   "metadata": {},
   "outputs": [],
   "source": [
    "write = Task(\n",
    "    description=(\n",
    "        \"1. Use the content plan to craft a compelling \"\n",
    "            \"blog post on {topic}.\\n\"\n",
    "        \"2. Incorporate SEO keywords naturally.\\n\"\n",
    "\t\t\"3. Sections/Subtitles are properly named \"\n",
    "            \"in an engaging manner.\\n\"\n",
    "        \"4. Ensure the post is structured with an \"\n",
    "            \"engaging introduction, insightful body, \"\n",
    "            \"and a summarizing conclusion.\\n\"\n",
    "        \"5. Proofread for grammatical errors and \"\n",
    "            \"alignment with the brand's voice.\\n\"\n",
    "    ),\n",
    "    expected_output=\"A well-written blog post \"\n",
    "        \"in markdown format, ready for publication, \"\n",
    "        \"each section should have 2 or 3 paragraphs.\",\n",
    "    tools=[docs_scrape_tool],\n",
    "    agent=writer,\n",
    ")"
   ]
  },
  {
   "cell_type": "code",
   "execution_count": null,
   "metadata": {},
   "outputs": [],
   "source": [
    "crew = Crew(\n",
    "    agents=[planner, writer, editor],\n",
    "    tasks=[plan, write, edit],\n",
    "    verbose=True\n",
    ")"
   ]
  },
  {
   "cell_type": "code",
   "execution_count": null,
   "metadata": {},
   "outputs": [],
   "source": [
    "result = crew.kickoff(inputs={\"topic\": \"Menlo college Master of Science in Information Systems\"})"
   ]
  },
  {
   "cell_type": "markdown",
   "metadata": {},
   "source": [
    "# Mental framework for agent creation\n",
    "\n",
    "Think of yourself as the manager of a team. Answer these questions:\n",
    "- What is the goal?\n",
    "- What is the process?\n",
    "- To get to the goal, what specialties do we need?\n",
    "\n",
    "It is better to be as clear and detailed about the roles.\n",
    "The following roles are okay:\n",
    "- Researcher\n",
    "- Writer\n",
    "- Finalncial analyst\n",
    "\n",
    "These are better:\n",
    "- HR research specialist\n",
    "- senior copywriter\n",
    "- Finra approved analyst"
   ]
  },
  {
   "cell_type": "markdown",
   "metadata": {},
   "source": [
    "# Agents can read files and much more\n",
    "Let's create a consulting crew which can help a bank reduce chrun by analyzing their data.\n",
    "In order to do that, we need to equip agents with tools that can read data from files in a directory.\n",
    "\n",
    "There are many other tools that agents can use. To find out more about the tools and other details, checkout [the CrewAI's documentation](https://docs.crewai.com/)."
   ]
  },
  {
   "cell_type": "code",
   "execution_count": null,
   "metadata": {},
   "outputs": [],
   "source": [
    "from crewai_tools import DirectoryReadTool, \\\n",
    "                         FileReadTool"
   ]
  },
  {
   "cell_type": "code",
   "execution_count": null,
   "metadata": {},
   "outputs": [],
   "source": [
    "directory_read_tool = DirectoryReadTool(directory='./3_ai_agents_dataset')\n",
    "file_read_tool = FileReadTool()"
   ]
  },
  {
   "cell_type": "code",
   "execution_count": null,
   "metadata": {},
   "outputs": [],
   "source": [
    "data_analyst = Agent(\n",
    "    role=\"Expert data analyst\",\n",
    "    goal=\"Analyze the data and provide insights\",\n",
    "    backstory=\"\"\"\n",
    "    You are an expert data analyst working for a consulting firm.\n",
    "    You specialize in analyzing data to provide insights and recommendations\n",
    "    to clients.\n",
    "    \"\"\",\n",
    "    allow_delegation=False,\n",
    "\tverbose=True\n",
    ")"
   ]
  },
  {
   "cell_type": "code",
   "execution_count": null,
   "metadata": {},
   "outputs": [],
   "source": [
    "business_analyst = Agent(\n",
    "    role=\"Expert business analyst\",\n",
    "    goal=\"Polish and finalize the business report\",\n",
    "    backstory=\"\"\"\n",
    "    You are an expert business analyst working for a consulting firm.\n",
    "    You create recommendations to business problems based on data analysis.\n",
    "    You can ask the data analyst for additional information if needed.\n",
    "    \"\"\",\n",
    "    allow_delegation=True,\n",
    "\tverbose=True\n",
    ")"
   ]
  },
  {
   "cell_type": "code",
   "execution_count": null,
   "metadata": {},
   "outputs": [],
   "source": [
    "analyze_data = Task(\n",
    "    description=\"\"\"\n",
    "    1. Read the data from the CSV files.\n",
    "    2. Analyze the data to identify trends and patterns.\n",
    "    3. Create sample data for the report if needed.\n",
    "    4. Provide insights and recommendations based on the data.\n",
    "    \"\"\",\n",
    "    expected_output=\"\"\"\n",
    "    A detailed analysis report with insights and recommendations.\n",
    "    \"\"\",\n",
    "    tools=[directory_read_tool, file_read_tool],\n",
    "    agent=data_analyst,\n",
    ")"
   ]
  },
  {
   "cell_type": "code",
   "execution_count": null,
   "metadata": {},
   "outputs": [],
   "source": [
    "create_report = Task(\n",
    "    description=\"\"\"\n",
    "    1. Use the data analysis report to understand the trends and patterns in the data.\n",
    "    2. Create a detailed business report based on the data analysis.\n",
    "    3. Include answer to the following questions in the report:\n",
    "        - What attributes are more common among churners than non-churners? Can churn be predicted using the variables in the data?\n",
    "        - What do the overall demographics of the bank's customers look like?\n",
    "        - Is there a difference between German, French, and Spanish customers in terms of account behavior?\n",
    "        - What types of segments exist within the bank's customers?\n",
    "    \"\"\",\n",
    "    expected_output=\"\"\"\n",
    "    A detailed business report with insights and answers to the asked questions.\n",
    "    \"\"\",\n",
    "    agent=business_analyst,\n",
    ")"
   ]
  },
  {
   "cell_type": "code",
   "execution_count": null,
   "metadata": {},
   "outputs": [],
   "source": [
    "crew = Crew(\n",
    "    agents=[data_analyst, business_analyst],\n",
    "    tasks=[analyze_data, create_report],\n",
    "    verbose=True\n",
    ")"
   ]
  },
  {
   "cell_type": "code",
   "execution_count": null,
   "metadata": {},
   "outputs": [],
   "source": [
    "result = crew.kickoff()"
   ]
  },
  {
   "cell_type": "markdown",
   "metadata": {},
   "source": [
    "### Excercise\n",
    "\n",
    "Create a crew which recieves the url for a job posting and a general description for someones skills and creates a plan to prepare for that job."
   ]
  }
 ],
 "metadata": {
  "kernelspec": {
   "display_name": "Python 3",
   "language": "python",
   "name": "python3"
  },
  "language_info": {
   "codemirror_mode": {
    "name": "ipython",
    "version": 3
   },
   "file_extension": ".py",
   "mimetype": "text/x-python",
   "name": "python",
   "nbconvert_exporter": "python",
   "pygments_lexer": "ipython3",
   "version": "3.10.11"
  }
 },
 "nbformat": 4,
 "nbformat_minor": 2
}
