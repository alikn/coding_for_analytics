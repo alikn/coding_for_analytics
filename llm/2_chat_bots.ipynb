{
 "cells": [
  {
   "cell_type": "markdown",
   "metadata": {},
   "source": [
    "[![Open In Colab](https://colab.research.google.com/assets/colab-badge.svg)](https://colab.research.google.com/github/alikn/coding_for_analytics/blob/main/llm/2_chat_bots.ipynb)"
   ]
  },
  {
   "cell_type": "markdown",
   "metadata": {},
   "source": [
    "Some of the material in this notebook is inspired by Deeplearning.ai's [ChatGPT prompt engineering for developers](https://www.deeplearning.ai/short-courses/chatgpt-prompt-engineering-for-developers/)."
   ]
  },
  {
   "cell_type": "code",
   "execution_count": null,
   "metadata": {},
   "outputs": [],
   "source": [
    "%pip install -q openai"
   ]
  },
  {
   "cell_type": "code",
   "execution_count": null,
   "metadata": {},
   "outputs": [],
   "source": [
    "api_key = '' # @param {type:\"string\"}"
   ]
  },
  {
   "cell_type": "markdown",
   "metadata": {},
   "source": [
    "## Helfper functions for this notebook\n",
    "The next cell includes helper functions which include functionality needed for this notebook. Just run the it and can skip to the next section."
   ]
  },
  {
   "cell_type": "code",
   "execution_count": null,
   "metadata": {},
   "outputs": [],
   "source": [
    "from openai import OpenAI"
   ]
  },
  {
   "cell_type": "code",
   "execution_count": null,
   "metadata": {},
   "outputs": [],
   "source": [
    "MODEL = \"gpt-4o-mini-2024-07-18\"\n",
    "client = OpenAI(api_key=api_key)\n",
    "\n",
    "def get_completion(messages):\n",
    "    completion = client.chat.completions.create(\n",
    "        model=MODEL,\n",
    "        messages=messages\n",
    "    )\n",
    "    assistant_response = completion.choices[0].message.content\n",
    "    messages = messages.copy()\n",
    "    messages.append({\"role\": \"assistant\", \"content\": assistant_response})\n",
    "    return assistant_response, messages"
   ]
  },
  {
   "cell_type": "markdown",
   "metadata": {},
   "source": [
    "## Conversation roles\n",
    "In the OpenAI Language Model (LLM) API, the roles of \"system,\" \"assistant,\" and \"user\" are used to define the flow of a conversation and the context in which the AI operates. Here's a description of each role:\n",
    "\n",
    "### 1. System:\n",
    "- **Role:** The \"system\" role is used to set the behavior and instructions for the AI. It defines how the assistant should behave during the conversation.\n",
    "- **Purpose:** The system message typically provides the AI with guidelines, such as the tone, style, or specific instructions on how to interact with the user. For example, it might instruct the assistant to be concise, to use formal language, or to act as a specific character.\n",
    "- **Example:** \"You are a helpful assistant that provides concise and accurate answers.\"\n",
    "\n",
    "### 2. Assistant:\n",
    "- **Role:** The \"assistant\" role represents the AI's responses in the conversation.\n",
    "- **Purpose:** The assistant generates responses based on the context provided by the system and user messages. This role is used to deliver the AI's output to the user.\n",
    "- **Example:** If a user asks, \"What is the capital of France?\" the assistant might respond, \"The capital of France is Paris.\"\n",
    "\n",
    "### 3. User:\n",
    "- **Role:** The \"user\" role represents the input from the human interacting with the AI.\n",
    "- **Purpose:** The user provides questions, commands, or other forms of input that the assistant needs to respond to. The user's messages drive the conversation, guiding what the assistant says next.\n",
    "- **Example:** A user might say, \"Tell me a joke,\" to which the assistant would respond with a joke.\n",
    "\n",
    "### Example Conversation Flow:\n",
    "\n",
    "- **System:** \"You are a friendly and informative assistant.\"\n",
    "- **User:** \"What's the weather like today?\"\n",
    "- **Assistant:** \"I’m sorry, but I cannot check the weather right now. However, I can help you with any other questions you might have.\"\n",
    "\n",
    "This structure allows the conversation to be well-organized and contextually aware, ensuring the assistant provides the most relevant and appropriate responses.\n"
   ]
  },
  {
   "cell_type": "code",
   "execution_count": null,
   "metadata": {},
   "outputs": [],
   "source": [
    "messages =  [  \n",
    "    {'role':'system', 'content':'You are friendly chatbot.'},    \n",
    "    {'role':'user', 'content':'Hi, I like football'} \n",
    "]\n",
    "get_completion(messages)[0]"
   ]
  },
  {
   "cell_type": "code",
   "execution_count": null,
   "metadata": {},
   "outputs": [],
   "source": [
    "messages =  [  \n",
    "    {'role':'system', 'content':'You are friendly chatbot.'},    \n",
    "    {'role':'user', 'content':'What sport do I like?'} \n",
    "]\n",
    "get_completion(messages)[0]"
   ]
  },
  {
   "cell_type": "code",
   "execution_count": null,
   "metadata": {},
   "outputs": [],
   "source": [
    "# Exampe:\n",
    "messages =  [  \n",
    "    {'role':'system', 'content':'You are a literature teacher.'},    \n",
    "    {'role':'user', 'content':'In one sentence, who was William Shakespeare?'},   \n",
    "    {'role':'assistant', 'content':'William Shakespeare was an English playwright, poet, and actor, widely regarded as the greatest writer in the English language and the world\\'s pre-eminent dramatist.'},\n",
    "    {'role':'user', 'content':'What is the most famous play written by him?'},\n",
    "]\n",
    "get_completion(messages)"
   ]
  },
  {
   "cell_type": "markdown",
   "metadata": {},
   "source": [
    "## Order Bot"
   ]
  },
  {
   "cell_type": "code",
   "execution_count": null,
   "metadata": {},
   "outputs": [],
   "source": [
    "\n",
    "messages = [ {'role':'system', 'content':\"\"\"\n",
    "You are OrderBot, an automated service to collect orders for a pizza restaurant. \\\n",
    "You first greet the customer, then collects the order, \\\n",
    "and then asks if it's a pickup or delivery. \\\n",
    "You wait to collect the entire order, then summarize it and check for a final \\\n",
    "time if the customer wants to add anything else. \\\n",
    "If it's a delivery, you ask for an address. \\\n",
    "Finally you collect the payment.\\\n",
    "Make sure to clarify all options, extras and sizes to uniquely \\\n",
    "identify the item from the menu.\\\n",
    "You respond in a short, very conversational friendly style. \\\n",
    "The menu includes \\\n",
    "pepperoni pizza  12.95, 10.00, 7.00 \\\n",
    "cheese pizza   10.95, 9.25, 6.50 \\\n",
    "eggplant pizza   11.95, 9.75, 6.75 \\\n",
    "fries 4.50, 3.50 \\\n",
    "greek salad 7.25 \\\n",
    "Toppings: \\\n",
    "extra cheese 2.00, \\\n",
    "mushrooms 1.50 \\\n",
    "sausage 3.00 \\\n",
    "canadian bacon 3.50 \\\n",
    "AI sauce 1.50 \\\n",
    "peppers 1.00 \\\n",
    "Drinks: \\\n",
    "coke 3.00, 2.00, 1.00 \\\n",
    "sprite 3.00, 2.00, 1.00 \\\n",
    "bottled water 5.00 \\\n",
    "\"\"\"} ]"
   ]
  },
  {
   "cell_type": "code",
   "execution_count": null,
   "metadata": {},
   "outputs": [],
   "source": [
    "response, messages = get_completion(messages)\n",
    "response"
   ]
  },
  {
   "cell_type": "code",
   "execution_count": null,
   "metadata": {},
   "outputs": [],
   "source": [
    "messages.append({'role':'user', 'content':'Thanks'})\n",
    "response, messages = get_completion(messages)\n",
    "response"
   ]
  },
  {
   "cell_type": "code",
   "execution_count": null,
   "metadata": {},
   "outputs": [],
   "source": [
    "messages.append(\n",
    "{'role':'system', 'content':'create a json summary of the previous food order. Itemize the price for each item\\\n",
    " The fields should be 1) pizza, include size 2) list of toppings 3) list of drinks, include size   4) list of sides include size  5)total price '},    \n",
    ")\n",
    "response, messages = get_completion(messages)\n",
    "response"
   ]
  },
  {
   "cell_type": "markdown",
   "metadata": {},
   "source": [
    "### Exercise\n",
    "Create a bot of your choice to carry a conversation. Add a system message to summarize the conversation at the end."
   ]
  },
  {
   "cell_type": "code",
   "execution_count": null,
   "metadata": {},
   "outputs": [],
   "source": [
    "# Add your code here\n"
   ]
  }
 ],
 "metadata": {
  "kernelspec": {
   "display_name": "Python 3",
   "language": "python",
   "name": "python3"
  },
  "language_info": {
   "codemirror_mode": {
    "name": "ipython",
    "version": 3
   },
   "file_extension": ".py",
   "mimetype": "text/x-python",
   "name": "python",
   "nbconvert_exporter": "python",
   "pygments_lexer": "ipython3",
   "version": "3.10.11"
  }
 },
 "nbformat": 4,
 "nbformat_minor": 2
}
