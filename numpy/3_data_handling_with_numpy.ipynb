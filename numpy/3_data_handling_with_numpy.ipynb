{
 "cells": [
  {
   "cell_type": "markdown",
   "metadata": {},
   "source": [
    "[![Open In Colab](https://colab.research.google.com/assets/colab-badge.svg)](https://colab.research.google.com/github/alikn/coding_for_analytics/blob/main/numpy/3_data_handling_with_numpy.ipynb)"
   ]
  },
  {
   "cell_type": "markdown",
   "metadata": {},
   "source": [
    "In this notebook, we are going to practice handling data with Numpy to practice some of the concepts we have learned."
   ]
  },
  {
   "cell_type": "markdown",
   "metadata": {},
   "source": [
    "## Animal shelter data\n",
    "An animal shelter has shared the data of the animals they currently have with us and asked us to run some data analysis on that. Here is the data:\n",
    "\n",
    "|animal|age|weight (lb)|color|health|\n",
    "|---|---|---|---|---|\n",
    "|dog|2|43|white|healthy|\n",
    "|dog|6|63|brown|healthy|\n",
    "|cat|3|16|white|sick|\n",
    "|cat|9|21|brown|healthy|\n",
    "|dog|12|55|black|sick|\n",
    "|cat|1|12|white|healthy|\n",
    "|cat|2|19|white|healthy|\n",
    "|dog|5|22|orange|healthy|\n",
    "|dog|8|102|brown|healthy|"
   ]
  },
  {
   "cell_type": "markdown",
   "metadata": {},
   "source": [
    "### Exercise\n",
    "Create a Numpy array which holds all the data and name it `animals_data`."
   ]
  },
  {
   "cell_type": "code",
   "execution_count": null,
   "metadata": {},
   "outputs": [],
   "source": [
    "# Add your code here\n",
    "# Add your code here\n",
    "# column 0: animal type. dog -> 1, cat -> 2\n",
    "# column 1: age\n",
    "# column 2: weight\n",
    "# column 3: color. white: 1, brown: 2, black: 3, orange: 4\n",
    "# column 4: health. healthy: 1, sick: 2\n",
    "animals_data_list = [\n",
    "  [1, 2, 43, 1, 1],\n",
    "  [1, 6, 63, 2, 1],\n",
    "  [2, 3, 16, 1, 2],\n",
    "  [2,9, 21, 2, 1],\n",
    "  [1, 12, 55, 3, 2],\n",
    "  [2,1, 12, 1, 1],\n",
    "  [2,2, 19, 1, 1],\n",
    "  [1, 5, 22, 4, 1],\n",
    "  [1, 8, 102, 2, 1],\n",
    "]\n",
    "animals_data = np.array(animals_data_list)\n",
    "animals_data"
   ]
  },
  {
   "cell_type": "markdown",
   "metadata": {},
   "source": [
    "### Exercise\n",
    "Write a function which counts how many cats and dogs there are in the shelter and prints it."
   ]
  },
  {
   "cell_type": "code",
   "execution_count": null,
   "metadata": {},
   "outputs": [],
   "source": [
    "# Add your code here"
   ]
  },
  {
   "cell_type": "markdown",
   "metadata": {},
   "source": [
    "### Exercise\n",
    "Write a function which calculates the average weight of the animals."
   ]
  },
  {
   "cell_type": "code",
   "execution_count": null,
   "metadata": {},
   "outputs": [],
   "source": [
    "# Add your code here"
   ]
  },
  {
   "cell_type": "markdown",
   "metadata": {},
   "source": [
    "### Exercise\n",
    "Write a function that returns the data of sick animals."
   ]
  },
  {
   "cell_type": "code",
   "execution_count": null,
   "metadata": {},
   "outputs": [],
   "source": [
    "# Add your code here"
   ]
  },
  {
   "cell_type": "markdown",
   "metadata": {},
   "source": [
    "### Exercise\n",
    "Write a function which calculates the average weight of dogs."
   ]
  },
  {
   "cell_type": "code",
   "execution_count": null,
   "metadata": {},
   "outputs": [],
   "source": [
    "# Add your code here"
   ]
  },
  {
   "cell_type": "markdown",
   "metadata": {},
   "source": [
    "### Exercise\n",
    "Write a function which counts how many healthy brown animals there are in the shelter."
   ]
  },
  {
   "cell_type": "code",
   "execution_count": null,
   "metadata": {},
   "outputs": [],
   "source": [
    "# Add your code here"
   ]
  },
  {
   "cell_type": "markdown",
   "metadata": {},
   "source": [
    "### Exercise\n",
    "Write a function which finds the oldest animal in the shelter and returns its data."
   ]
  },
  {
   "cell_type": "code",
   "execution_count": null,
   "metadata": {},
   "outputs": [],
   "source": [
    "# Add your code here"
   ]
  }
 ],
 "metadata": {
  "kernelspec": {
   "display_name": "Python 3.10.8 64-bit (microsoft store)",
   "language": "python",
   "name": "python3"
  },
  "language_info": {
   "name": "python",
   "version": "3.10.8"
  },
  "orig_nbformat": 4,
  "vscode": {
   "interpreter": {
    "hash": "1d6971dd49b9794e29936202b7e795af0a71863773ee7feabb9db3f4cad91916"
   }
  }
 },
 "nbformat": 4,
 "nbformat_minor": 2
}
