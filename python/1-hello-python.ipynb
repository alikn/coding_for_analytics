{
 "cells": [
  {
   "cell_type": "markdown",
   "id": "34954d10",
   "metadata": {},
   "source": [
    "[![Open In Colab](https://colab.research.google.com/assets/colab-badge.svg)](https://colab.research.google.com/github/alikn/coding_for_analytics/blob/main/python/1-hello-python.ipynb)"
   ]
  },
  {
   "cell_type": "markdown",
   "id": "e9799aac",
   "metadata": {
    "papermill": {
     "duration": 0.011877,
     "end_time": "2022-06-09T20:57:03.319109",
     "exception": false,
     "start_time": "2022-06-09T20:57:03.307232",
     "status": "completed"
    },
    "tags": []
   },
   "source": [
    "Many of the notebooks we use in this course are forked from [Kaggle](https://www.kaggle.com/)  coursers. Kaggle courses are awesome! For the Python portion, the following courses are used:  \n",
    "- [Intro to Programming](https://www.kaggle.com/learn/intro-to-programming)\n",
    "- [Python](https://www.kaggle.com/learn/python)"
   ]
  },
  {
   "cell_type": "markdown",
   "id": "508f61b6",
   "metadata": {
    "papermill": {
     "duration": 0.010443,
     "end_time": "2022-06-09T20:57:03.340396",
     "exception": false,
     "start_time": "2022-06-09T20:57:03.329953",
     "status": "completed"
    },
    "tags": []
   },
   "source": [
    "# Hello, Python!\n",
    "\n",
    "Python was named for the British comedy troupe [Monty Python](https://en.wikipedia.org/wiki/Monty_Python), so we'll make our first Python program a homage to their skit about [Spam](https://bit.ly/3MwwjSs).\n",
    "\n",
    "Just for fun, try reading over the code below and predicting what it's going to do when run. (If you have no idea, that's fine!)\n",
    "\n",
    "Then click the \"run\" button to see the results of our program."
   ]
  },
  {
   "cell_type": "code",
   "execution_count": 2,
   "id": "dde448ec",
   "metadata": {
    "_kg_hide-output": true,
    "execution": {
     "iopub.execute_input": "2022-06-09T20:57:03.364738Z",
     "iopub.status.busy": "2022-06-09T20:57:03.364120Z",
     "iopub.status.idle": "2022-06-09T20:57:03.373025Z",
     "shell.execute_reply": "2022-06-09T20:57:03.372539Z"
    },
    "papermill": {
     "duration": 0.023544,
     "end_time": "2022-06-09T20:57:03.375248",
     "exception": false,
     "start_time": "2022-06-09T20:57:03.351704",
     "status": "completed"
    },
    "tags": []
   },
   "outputs": [
    {
     "name": "stdout",
     "output_type": "stream",
     "text": [
      "0\n",
      "But I don't want ANY spam!\n",
      "Spam Spam Spam Spam \n"
     ]
    }
   ],
   "source": [
    "spam_amount = 0\n",
    "print(spam_amount)\n",
    "\n",
    "# Ordering Spam, egg, Spam, Spam, bacon and Spam (4 more servings of Spam)\n",
    "spam_amount = spam_amount + 4\n",
    "\n",
    "if spam_amount > 0:\n",
    "    print(\"But I don't want ANY spam!\")\n",
    "\n",
    "viking_song = \"Spam \" * spam_amount\n",
    "print(viking_song)"
   ]
  },
  {
   "cell_type": "markdown",
   "id": "9ddf9072",
   "metadata": {
    "papermill": {
     "duration": 0.010567,
     "end_time": "2022-06-09T20:57:03.397039",
     "exception": false,
     "start_time": "2022-06-09T20:57:03.386472",
     "status": "completed"
    },
    "tags": []
   },
   "source": [
    "There's a lot to unpack here! This silly program demonstrates many important aspects of what Python code looks like and how it works. Let's review the code from top to bottom."
   ]
  },
  {
   "cell_type": "code",
   "execution_count": 2,
   "id": "b322a176",
   "metadata": {
    "collapsed": true,
    "execution": {
     "iopub.execute_input": "2022-06-09T20:57:03.420681Z",
     "iopub.status.busy": "2022-06-09T20:57:03.420155Z",
     "iopub.status.idle": "2022-06-09T20:57:03.423550Z",
     "shell.execute_reply": "2022-06-09T20:57:03.423044Z"
    },
    "jupyter": {
     "outputs_hidden": true
    },
    "papermill": {
     "duration": 0.017083,
     "end_time": "2022-06-09T20:57:03.425273",
     "exception": false,
     "start_time": "2022-06-09T20:57:03.408190",
     "status": "completed"
    },
    "tags": []
   },
   "outputs": [],
   "source": [
    "spam_amount = 0"
   ]
  },
  {
   "cell_type": "markdown",
   "id": "dbea3079",
   "metadata": {
    "papermill": {
     "duration": 0.010771,
     "end_time": "2022-06-09T20:57:03.447259",
     "exception": false,
     "start_time": "2022-06-09T20:57:03.436488",
     "status": "completed"
    },
    "tags": []
   },
   "source": [
    "**Variable assignment:** Here we create a variable called `spam_amount` and assign it the value of 0 using `=`, which is called the assignment operator.\n",
    "\n",
    "> **Note**: If you've programmed in certain other languages (like Java or C++), you might be noticing some things Python *doesn't* require us to do here:  \n",
    "- we don't need to \"declare\" `spam_amount` before assigning to it\n",
    "- we don't need to tell Python what type of value `spam_amount` is going to refer to. In fact, we can even go on to reassign `spam_amount` to refer to a different sort of thing like a string or a boolean."
   ]
  },
  {
   "cell_type": "code",
   "execution_count": 3,
   "id": "6fd50196",
   "metadata": {
    "_kg_hide-output": false,
    "collapsed": true,
    "execution": {
     "iopub.execute_input": "2022-06-09T20:57:03.470826Z",
     "iopub.status.busy": "2022-06-09T20:57:03.470302Z",
     "iopub.status.idle": "2022-06-09T20:57:03.474120Z",
     "shell.execute_reply": "2022-06-09T20:57:03.473486Z"
    },
    "jupyter": {
     "outputs_hidden": true
    },
    "papermill": {
     "duration": 0.017677,
     "end_time": "2022-06-09T20:57:03.475939",
     "exception": false,
     "start_time": "2022-06-09T20:57:03.458262",
     "status": "completed"
    },
    "tags": []
   },
   "outputs": [
    {
     "name": "stdout",
     "output_type": "stream",
     "text": [
      "0\n"
     ]
    }
   ],
   "source": [
    "print(spam_amount)"
   ]
  },
  {
   "cell_type": "markdown",
   "id": "0f835ab4",
   "metadata": {
    "papermill": {
     "duration": 0.011235,
     "end_time": "2022-06-09T20:57:03.498950",
     "exception": false,
     "start_time": "2022-06-09T20:57:03.487715",
     "status": "completed"
    },
    "tags": []
   },
   "source": [
    "**Function calls:**. `print` is a Python function that displays the value passed to it on the screen. We call functions by putting parentheses after their name, and putting the inputs (or *arguments*) to the function in those parentheses."
   ]
  },
  {
   "cell_type": "code",
   "execution_count": 4,
   "id": "3dcb3971",
   "metadata": {
    "_kg_hide-output": false,
    "collapsed": true,
    "execution": {
     "iopub.execute_input": "2022-06-09T20:57:03.522951Z",
     "iopub.status.busy": "2022-06-09T20:57:03.522275Z",
     "iopub.status.idle": "2022-06-09T20:57:03.525502Z",
     "shell.execute_reply": "2022-06-09T20:57:03.524979Z"
    },
    "jupyter": {
     "outputs_hidden": true
    },
    "papermill": {
     "duration": 0.017425,
     "end_time": "2022-06-09T20:57:03.527565",
     "exception": false,
     "start_time": "2022-06-09T20:57:03.510140",
     "status": "completed"
    },
    "tags": []
   },
   "outputs": [],
   "source": [
    "# Ordering Spam, egg, Spam, Spam, bacon and Spam (4 more servings of Spam)\n",
    "spam_amount = spam_amount + 4"
   ]
  },
  {
   "cell_type": "markdown",
   "id": "b1f768fd",
   "metadata": {
    "papermill": {
     "duration": 0.011603,
     "end_time": "2022-06-09T20:57:03.550648",
     "exception": false,
     "start_time": "2022-06-09T20:57:03.539045",
     "status": "completed"
    },
    "tags": []
   },
   "source": [
    "The first line above is a **comment**. In Python, comments begin with the `#` symbol.\n",
    "\n",
    "Next we see an example of reassignment. Reassigning the value of an existing variable looks just the same as creating a variable - it still uses the `=` assignment operator.\n",
    "\n",
    "In this case, the value we're assigning to `spam_amount` involves some simple arithmetic on its previous value. When it encounters this line, Python evaluates the expression on the right-hand-side of the `=` (0 + 4 = 4), and then assigns that value to the variable on the left-hand-side."
   ]
  },
  {
   "cell_type": "code",
   "execution_count": 5,
   "id": "835f48a6",
   "metadata": {
    "_kg_hide-output": false,
    "collapsed": true,
    "execution": {
     "iopub.execute_input": "2022-06-09T20:57:03.575297Z",
     "iopub.status.busy": "2022-06-09T20:57:03.574556Z",
     "iopub.status.idle": "2022-06-09T20:57:03.578934Z",
     "shell.execute_reply": "2022-06-09T20:57:03.578417Z"
    },
    "jupyter": {
     "outputs_hidden": true
    },
    "papermill": {
     "duration": 0.018591,
     "end_time": "2022-06-09T20:57:03.580860",
     "exception": false,
     "start_time": "2022-06-09T20:57:03.562269",
     "status": "completed"
    },
    "tags": []
   },
   "outputs": [
    {
     "name": "stdout",
     "output_type": "stream",
     "text": [
      "But I don't want ANY spam!\n",
      "Spam Spam Spam\n"
     ]
    }
   ],
   "source": [
    "if spam_amount > 0:\n",
    "    print(\"But I don't want ANY spam!\")\n",
    "\n",
    "viking_song = \"Spam Spam Spam\"\n",
    "print(viking_song)"
   ]
  },
  {
   "cell_type": "markdown",
   "id": "e51e21cf",
   "metadata": {
    "papermill": {
     "duration": 0.011095,
     "end_time": "2022-06-09T20:57:03.603518",
     "exception": false,
     "start_time": "2022-06-09T20:57:03.592423",
     "status": "completed"
    },
    "tags": []
   },
   "source": [
    "We won't talk much about \"conditionals\" until later, but, even if you've never coded before, you can probably guess what this does. Python is prized for its readability and the simplicity. \n",
    "\n",
    "Note how we indicated which code belongs to the `if`. `\"But I don't want ANY spam!\"` is only supposed to be printed if `spam_amount` is positive. But the later code (like `print(viking_song)`) should be executed no matter what. How do we (and Python) know that?\n",
    "\n",
    "The colon (`:`) at the end of the `if` line indicates that a new **code block** is starting. Subsequent lines which are indented are part of that code block. \n",
    "> **Note**: If you've coded before, you might know that some other languages use `{`curly braces`}` to mark the beginning and end of code blocks. Python's use of meaningful whitespace can be surprising to programmers who are accustomed to other languages, but in practice it can lead to more consistent and readable code than languages that do not enforce indentation of code blocks. \n",
    "\n",
    "The later lines dealing with `viking_song` are not indented with an extra 4 spaces, so they're not a part of the `if`'s code block. We'll see more examples of indented code blocks later when we define functions and using loops.\n",
    "\n",
    "This code snippet is also our first sighting of a **string** in Python:\n",
    "\n",
    "```python\n",
    "\"But I don't want ANY spam!\"\n",
    "```\n",
    "\n",
    "Strings can be marked either by double or single quotation marks. (But because this particular string *contains* a single-quote character, we might confuse Python by trying to surround it with single-quotes, unless we're careful.)"
   ]
  },
  {
   "cell_type": "code",
   "execution_count": 6,
   "id": "129926a9",
   "metadata": {
    "_kg_hide-output": false,
    "collapsed": true,
    "execution": {
     "iopub.execute_input": "2022-06-09T20:57:03.629080Z",
     "iopub.status.busy": "2022-06-09T20:57:03.628572Z",
     "iopub.status.idle": "2022-06-09T20:57:03.633078Z",
     "shell.execute_reply": "2022-06-09T20:57:03.631806Z"
    },
    "jupyter": {
     "outputs_hidden": true
    },
    "papermill": {
     "duration": 0.01938,
     "end_time": "2022-06-09T20:57:03.635037",
     "exception": false,
     "start_time": "2022-06-09T20:57:03.615657",
     "status": "completed"
    },
    "tags": []
   },
   "outputs": [
    {
     "name": "stdout",
     "output_type": "stream",
     "text": [
      "Spam Spam Spam Spam \n"
     ]
    }
   ],
   "source": [
    "viking_song = \"Spam \" * spam_amount\n",
    "print(viking_song)"
   ]
  },
  {
   "cell_type": "markdown",
   "id": "7fb8e92e",
   "metadata": {
    "papermill": {
     "duration": 0.011767,
     "end_time": "2022-06-09T20:57:03.659129",
     "exception": false,
     "start_time": "2022-06-09T20:57:03.647362",
     "status": "completed"
    },
    "tags": []
   },
   "source": [
    "The `*` operator can be used to multiply two numbers (`3 * 3` evaluates to 9), but we can also multiply a string by a number, to get a version that's been repeated that many times. Python offers a number of cheeky little time-saving tricks like this where operators like `*` and `+` have a different meaning depending on what kind of thing they're applied to. (The technical term for this is [operator overloading](https://en.wikipedia.org/wiki/Operator_overloading).)"
   ]
  }
 ],
 "metadata": {
  "kernelspec": {
   "display_name": "Python 3.10.8 64-bit (microsoft store)",
   "language": "python",
   "name": "python3"
  },
  "language_info": {
   "codemirror_mode": {
    "name": "ipython",
    "version": 3
   },
   "file_extension": ".py",
   "mimetype": "text/x-python",
   "name": "python",
   "nbconvert_exporter": "python",
   "pygments_lexer": "ipython3",
   "version": "3.10.8"
  },
  "papermill": {
   "default_parameters": {},
   "duration": 12.547572,
   "end_time": "2022-06-09T20:57:05.342294",
   "environment_variables": {},
   "exception": null,
   "input_path": "__notebook__.ipynb",
   "output_path": "__notebook__.ipynb",
   "parameters": {},
   "start_time": "2022-06-09T20:56:52.794722",
   "version": "2.3.4"
  },
  "vscode": {
   "interpreter": {
    "hash": "1d6971dd49b9794e29936202b7e795af0a71863773ee7feabb9db3f4cad91916"
   }
  }
 },
 "nbformat": 4,
 "nbformat_minor": 5
}
