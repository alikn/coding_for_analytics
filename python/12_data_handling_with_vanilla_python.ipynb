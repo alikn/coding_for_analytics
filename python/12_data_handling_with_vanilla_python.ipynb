{
 "cells": [
  {
   "cell_type": "markdown",
   "metadata": {},
   "source": [
    "[![Open In Colab](https://colab.research.google.com/assets/colab-badge.svg)](https://colab.research.google.com/github/alikn/coding_for_analytics/blob/main/python/12_data_handling_with_vanilla_python.ipynb)"
   ]
  },
  {
   "cell_type": "markdown",
   "metadata": {},
   "source": [
    "When it comes to dealing with data, vanilla Python data structures are not very user-friendly. Luckily, there are Python libraries which are excellent in filtering, transforming and aggregating the data.\n",
    "\n",
    "In this notebook, we are going to practice handling data with plain Python to practice some of the concepts we have learned and show why we need libraries like NumPy and Panda."
   ]
  },
  {
   "cell_type": "markdown",
   "metadata": {},
   "source": [
    "## Animal shelter data\n",
    "An animal shelter has shared the data of the animals they currently have with us and asked us to run some data analysis on that. Here is the data:\n",
    "\n",
    "|animal|age|weight (lb)|color|health|\n",
    "|---|---|---|---|---|\n",
    "|dog|2|43|white|healthy|\n",
    "|dog|6|63|brown|healthy|\n",
    "|cat|3|16|black|sick|\n",
    "|cat|9|21|brown|healthy|\n",
    "|dog|12|55|black|sick|\n",
    "|cat|1|12|white|healthy|\n",
    "|cat|2|19|white|healthy|\n",
    "|dog|5|22|orange|healthy|\n",
    "|dog|8|102|brown|healthy|"
   ]
  },
  {
   "cell_type": "markdown",
   "metadata": {},
   "source": [
    "### Exercise\n",
    "Create a list of lists which holds all the data and name it `animals_data`."
   ]
  },
  {
   "cell_type": "code",
   "execution_count": null,
   "metadata": {},
   "outputs": [],
   "source": [
    "# Add your code here"
   ]
  },
  {
   "cell_type": "markdown",
   "metadata": {},
   "source": [
    "### Exercise\n",
    "Write a function which counts how many cats and dogs there are in the shelter and prints it."
   ]
  },
  {
   "cell_type": "code",
   "execution_count": null,
   "metadata": {},
   "outputs": [],
   "source": [
    "# Add your code here"
   ]
  },
  {
   "cell_type": "markdown",
   "metadata": {},
   "source": [
    "### Exercise\n",
    "Write a function which calculates the average weight of the animals."
   ]
  },
  {
   "cell_type": "code",
   "execution_count": null,
   "metadata": {},
   "outputs": [],
   "source": [
    "# Add your code here"
   ]
  },
  {
   "cell_type": "markdown",
   "metadata": {},
   "source": [
    "### Exercise\n",
    "Write a function that returns the data of sick animals."
   ]
  },
  {
   "cell_type": "code",
   "execution_count": null,
   "metadata": {},
   "outputs": [],
   "source": [
    "# Add your code here"
   ]
  },
  {
   "cell_type": "markdown",
   "metadata": {},
   "source": [
    "### Exercise\n",
    "Write a function which calculates the average weight of dogs."
   ]
  },
  {
   "cell_type": "code",
   "execution_count": null,
   "metadata": {},
   "outputs": [],
   "source": [
    "# Add your code here"
   ]
  },
  {
   "cell_type": "markdown",
   "metadata": {},
   "source": [
    "### Exercise\n",
    "Write a function which counts how many healthy brown animals there are in the shelter."
   ]
  },
  {
   "cell_type": "code",
   "execution_count": null,
   "metadata": {},
   "outputs": [],
   "source": [
    "# Add your code here"
   ]
  },
  {
   "cell_type": "markdown",
   "metadata": {},
   "source": [
    "### Exercise\n",
    "Write a function which finds the oldest animal in the shlter and returns its data."
   ]
  },
  {
   "cell_type": "code",
   "execution_count": null,
   "metadata": {},
   "outputs": [],
   "source": [
    "# Add your code here"
   ]
  }
 ],
 "metadata": {
  "kernelspec": {
   "display_name": "Python 3.10.8 64-bit (microsoft store)",
   "language": "python",
   "name": "python3"
  },
  "language_info": {
   "name": "python",
   "version": "3.10.8"
  },
  "orig_nbformat": 4,
  "vscode": {
   "interpreter": {
    "hash": "1d6971dd49b9794e29936202b7e795af0a71863773ee7feabb9db3f4cad91916"
   }
  }
 },
 "nbformat": 4,
 "nbformat_minor": 2
}
