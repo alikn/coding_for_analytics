{
 "cells": [
  {
   "cell_type": "markdown",
   "id": "1187155c",
   "metadata": {},
   "source": [
    "[![Open In Colab](https://colab.research.google.com/assets/colab-badge.svg)](https://colab.research.google.com/github/alikn/coding_for_analytics/blob/main/python/4_functions_part_2.ipynb)"
   ]
  },
  {
   "cell_type": "markdown",
   "id": "2d9a7411",
   "metadata": {},
   "source": [
    "Many of the notebooks we use in this course are forked from [Kaggle](https://www.kaggle.com/)  courses. Kaggle courses are awesome! For the Python portion of *Coding for Analytics*, the following Kaggle courses are used:  \n",
    "- [Intro to Programming](https://www.kaggle.com/learn/intro-to-programming)\n",
    "- [Python](https://www.kaggle.com/learn/python)"
   ]
  },
  {
   "cell_type": "markdown",
   "id": "5a29a414",
   "metadata": {
    "papermill": {
     "duration": 0.024516,
     "end_time": "2021-11-11T14:28:32.370644",
     "exception": false,
     "start_time": "2021-11-11T14:28:32.346128",
     "status": "completed"
    },
    "tags": []
   },
   "source": [
    "\n",
    "## Functions part 2\n",
    "You have already used a Python built in function: `print`. Python has many more built in functions that can help us."
   ]
  },
  {
   "cell_type": "markdown",
   "id": "753c61af",
   "metadata": {},
   "source": [
    "### Builtin functions for working with numbers\n",
    "\n",
    "`min` and `max` return the minimum and maximum of their arguments, respectively..."
   ]
  },
  {
   "cell_type": "code",
   "execution_count": 2,
   "id": "02765867",
   "metadata": {},
   "outputs": [
    {
     "name": "stdout",
     "output_type": "stream",
     "text": [
      "1\n",
      "3\n"
     ]
    }
   ],
   "source": [
    "print(min(1, 2, 3))\n",
    "print(max(1, 2, 3))"
   ]
  },
  {
   "cell_type": "markdown",
   "id": "03e3b1b3",
   "metadata": {},
   "source": [
    "`abs` returns the absolute value of an argument:"
   ]
  },
  {
   "cell_type": "code",
   "execution_count": 18,
   "id": "3495c0db",
   "metadata": {},
   "outputs": [
    {
     "name": "stdout",
     "output_type": "stream",
     "text": [
      "32\n",
      "32\n"
     ]
    }
   ],
   "source": [
    "print(abs(32))\n",
    "print(abs(-32))"
   ]
  },
  {
   "cell_type": "markdown",
   "id": "5af07c34",
   "metadata": {},
   "source": [
    "In addition to being the names of Python's two main numerical types, `int` and `float` can also be called as functions which convert their arguments to the corresponding type:"
   ]
  },
  {
   "cell_type": "code",
   "execution_count": 19,
   "id": "5f08c9e5",
   "metadata": {},
   "outputs": [
    {
     "name": "stdout",
     "output_type": "stream",
     "text": [
      "10.0\n",
      "3\n",
      "808\n"
     ]
    }
   ],
   "source": [
    "print(float(10))\n",
    "print(int(3.33))\n",
    "# They can even be called on strings!\n",
    "print(int('807') + 1)"
   ]
  },
  {
   "cell_type": "markdown",
   "id": "f41a3a30",
   "metadata": {},
   "source": [
    "We will go deeper into Python types in later lessons."
   ]
  },
  {
   "cell_type": "markdown",
   "id": "5e2ea06b",
   "metadata": {},
   "source": [
    "### Exercise\n",
    "Write a function that receives three numbers, and returns the difference between the largest and smallest ones."
   ]
  },
  {
   "cell_type": "code",
   "execution_count": null,
   "id": "41a197ca",
   "metadata": {},
   "outputs": [],
   "source": [
    "# Write your code here\n"
   ]
  },
  {
   "cell_type": "markdown",
   "id": "69e25893",
   "metadata": {
    "papermill": {
     "duration": 0.021261,
     "end_time": "2021-11-11T14:28:32.413638",
     "exception": false,
     "start_time": "2021-11-11T14:28:32.392377",
     "status": "completed"
    },
    "tags": []
   },
   "source": [
    "## Getting Help\n",
    "\n",
    "You saw the `abs` function, but what if you've forgotten what it does?\n",
    "\n",
    "The `help()` function is possibly the most important Python function you can learn. If you can remember how to use `help()`, you hold the key to understanding most other functions.\n",
    "\n",
    "Here is an example:"
   ]
  },
  {
   "cell_type": "code",
   "execution_count": 3,
   "id": "c81d3f63",
   "metadata": {
    "execution": {
     "iopub.execute_input": "2021-11-11T14:28:32.461662Z",
     "iopub.status.busy": "2021-11-11T14:28:32.459843Z",
     "iopub.status.idle": "2021-11-11T14:28:32.475072Z",
     "shell.execute_reply": "2021-11-11T14:28:32.474261Z"
    },
    "papermill": {
     "duration": 0.040445,
     "end_time": "2021-11-11T14:28:32.475243",
     "exception": false,
     "start_time": "2021-11-11T14:28:32.434798",
     "status": "completed"
    },
    "tags": []
   },
   "outputs": [
    {
     "name": "stdout",
     "output_type": "stream",
     "text": [
      "Help on built-in function round in module builtins:\n",
      "\n",
      "round(number, ndigits=None)\n",
      "    Round a number to a given precision in decimal digits.\n",
      "    \n",
      "    The return value is an integer if ndigits is omitted or None.  Otherwise\n",
      "    the return value has the same type as the number.  ndigits may be negative.\n",
      "\n"
     ]
    }
   ],
   "source": [
    "help(round)"
   ]
  },
  {
   "cell_type": "markdown",
   "id": "1eae5845",
   "metadata": {
    "papermill": {
     "duration": 0.021246,
     "end_time": "2021-11-11T14:28:32.518947",
     "exception": false,
     "start_time": "2021-11-11T14:28:32.497701",
     "status": "completed"
    },
    "tags": []
   },
   "source": [
    "`help()` displays two things:\n",
    "\n",
    "1. the header of that function `round(number, ndigits=None)`. In this case, this tells us that `round()` takes an argument we can describe as `number`. Additionally, we can optionally give a separate argument which could be described as `ndigits`.\n",
    "2. A brief English description of what the function does. "
   ]
  },
  {
   "cell_type": "markdown",
   "id": "b87875dd",
   "metadata": {
    "papermill": {
     "duration": 0.021194,
     "end_time": "2021-11-11T14:28:32.561791",
     "exception": false,
     "start_time": "2021-11-11T14:28:32.540597",
     "status": "completed"
    },
    "tags": []
   },
   "source": [
    "**Common pitfall:** when you're looking up a function, remember to pass in the name of the function itself, and not the result of calling that function. \n",
    "\n",
    "What happens if we invoke help on a *call* to the function `round()`? Let's see!"
   ]
  },
  {
   "cell_type": "code",
   "execution_count": 4,
   "id": "70b4b82b",
   "metadata": {
    "_kg_hide-output": true,
    "collapsed": true,
    "execution": {
     "iopub.execute_input": "2021-11-11T14:28:32.626128Z",
     "iopub.status.busy": "2021-11-11T14:28:32.624706Z",
     "iopub.status.idle": "2021-11-11T14:28:32.637932Z",
     "shell.execute_reply": "2021-11-11T14:28:32.638501Z"
    },
    "papermill": {
     "duration": 0.055249,
     "end_time": "2021-11-11T14:28:32.638682",
     "exception": false,
     "start_time": "2021-11-11T14:28:32.583433",
     "status": "completed"
    },
    "tags": []
   },
   "outputs": [
    {
     "name": "stdout",
     "output_type": "stream",
     "text": [
      "Help on int object:\n",
      "\n",
      "class int(object)\n",
      " |  int([x]) -> integer\n",
      " |  int(x, base=10) -> integer\n",
      " |  \n",
      " |  Convert a number or string to an integer, or return 0 if no arguments\n",
      " |  are given.  If x is a number, return x.__int__().  For floating point\n",
      " |  numbers, this truncates towards zero.\n",
      " |  \n",
      " |  If x is not a number or if base is given, then x must be a string,\n",
      " |  bytes, or bytearray instance representing an integer literal in the\n",
      " |  given base.  The literal can be preceded by '+' or '-' and be surrounded\n",
      " |  by whitespace.  The base defaults to 10.  Valid bases are 0 and 2-36.\n",
      " |  Base 0 means to interpret the base from the string as an integer literal.\n",
      " |  >>> int('0b100', base=0)\n",
      " |  4\n",
      " |  \n",
      " |  Built-in subclasses:\n",
      " |      bool\n",
      " |  \n",
      " |  Methods defined here:\n",
      " |  \n",
      " |  __abs__(self, /)\n",
      " |      abs(self)\n",
      " |  \n",
      " |  __add__(self, value, /)\n",
      " |      Return self+value.\n",
      " |  \n",
      " |  __and__(self, value, /)\n",
      " |      Return self&value.\n",
      " |  \n",
      " |  __bool__(self, /)\n",
      " |      True if self else False\n",
      " |  \n",
      " |  __ceil__(...)\n",
      " |      Ceiling of an Integral returns itself.\n",
      " |  \n",
      " |  __divmod__(self, value, /)\n",
      " |      Return divmod(self, value).\n",
      " |  \n",
      " |  __eq__(self, value, /)\n",
      " |      Return self==value.\n",
      " |  \n",
      " |  __float__(self, /)\n",
      " |      float(self)\n",
      " |  \n",
      " |  __floor__(...)\n",
      " |      Flooring an Integral returns itself.\n",
      " |  \n",
      " |  __floordiv__(self, value, /)\n",
      " |      Return self//value.\n",
      " |  \n",
      " |  __format__(self, format_spec, /)\n",
      " |      Default object formatter.\n",
      " |  \n",
      " |  __ge__(self, value, /)\n",
      " |      Return self>=value.\n",
      " |  \n",
      " |  __getattribute__(self, name, /)\n",
      " |      Return getattr(self, name).\n",
      " |  \n",
      " |  __getnewargs__(self, /)\n",
      " |  \n",
      " |  __gt__(self, value, /)\n",
      " |      Return self>value.\n",
      " |  \n",
      " |  __hash__(self, /)\n",
      " |      Return hash(self).\n",
      " |  \n",
      " |  __index__(self, /)\n",
      " |      Return self converted to an integer, if self is suitable for use as an index into a list.\n",
      " |  \n",
      " |  __int__(self, /)\n",
      " |      int(self)\n",
      " |  \n",
      " |  __invert__(self, /)\n",
      " |      ~self\n",
      " |  \n",
      " |  __le__(self, value, /)\n",
      " |      Return self<=value.\n",
      " |  \n",
      " |  __lshift__(self, value, /)\n",
      " |      Return self<<value.\n",
      " |  \n",
      " |  __lt__(self, value, /)\n",
      " |      Return self<value.\n",
      " |  \n",
      " |  __mod__(self, value, /)\n",
      " |      Return self%value.\n",
      " |  \n",
      " |  __mul__(self, value, /)\n",
      " |      Return self*value.\n",
      " |  \n",
      " |  __ne__(self, value, /)\n",
      " |      Return self!=value.\n",
      " |  \n",
      " |  __neg__(self, /)\n",
      " |      -self\n",
      " |  \n",
      " |  __or__(self, value, /)\n",
      " |      Return self|value.\n",
      " |  \n",
      " |  __pos__(self, /)\n",
      " |      +self\n",
      " |  \n",
      " |  __pow__(self, value, mod=None, /)\n",
      " |      Return pow(self, value, mod).\n",
      " |  \n",
      " |  __radd__(self, value, /)\n",
      " |      Return value+self.\n",
      " |  \n",
      " |  __rand__(self, value, /)\n",
      " |      Return value&self.\n",
      " |  \n",
      " |  __rdivmod__(self, value, /)\n",
      " |      Return divmod(value, self).\n",
      " |  \n",
      " |  __repr__(self, /)\n",
      " |      Return repr(self).\n",
      " |  \n",
      " |  __rfloordiv__(self, value, /)\n",
      " |      Return value//self.\n",
      " |  \n",
      " |  __rlshift__(self, value, /)\n",
      " |      Return value<<self.\n",
      " |  \n",
      " |  __rmod__(self, value, /)\n",
      " |      Return value%self.\n",
      " |  \n",
      " |  __rmul__(self, value, /)\n",
      " |      Return value*self.\n",
      " |  \n",
      " |  __ror__(self, value, /)\n",
      " |      Return value|self.\n",
      " |  \n",
      " |  __round__(...)\n",
      " |      Rounding an Integral returns itself.\n",
      " |      \n",
      " |      Rounding with an ndigits argument also returns an integer.\n",
      " |  \n",
      " |  __rpow__(self, value, mod=None, /)\n",
      " |      Return pow(value, self, mod).\n",
      " |  \n",
      " |  __rrshift__(self, value, /)\n",
      " |      Return value>>self.\n",
      " |  \n",
      " |  __rshift__(self, value, /)\n",
      " |      Return self>>value.\n",
      " |  \n",
      " |  __rsub__(self, value, /)\n",
      " |      Return value-self.\n",
      " |  \n",
      " |  __rtruediv__(self, value, /)\n",
      " |      Return value/self.\n",
      " |  \n",
      " |  __rxor__(self, value, /)\n",
      " |      Return value^self.\n",
      " |  \n",
      " |  __sizeof__(self, /)\n",
      " |      Returns size in memory, in bytes.\n",
      " |  \n",
      " |  __sub__(self, value, /)\n",
      " |      Return self-value.\n",
      " |  \n",
      " |  __truediv__(self, value, /)\n",
      " |      Return self/value.\n",
      " |  \n",
      " |  __trunc__(...)\n",
      " |      Truncating an Integral returns itself.\n",
      " |  \n",
      " |  __xor__(self, value, /)\n",
      " |      Return self^value.\n",
      " |  \n",
      " |  as_integer_ratio(self, /)\n",
      " |      Return integer ratio.\n",
      " |      \n",
      " |      Return a pair of integers, whose ratio is exactly equal to the original int\n",
      " |      and with a positive denominator.\n",
      " |      \n",
      " |      >>> (10).as_integer_ratio()\n",
      " |      (10, 1)\n",
      " |      >>> (-10).as_integer_ratio()\n",
      " |      (-10, 1)\n",
      " |      >>> (0).as_integer_ratio()\n",
      " |      (0, 1)\n",
      " |  \n",
      " |  bit_count(self, /)\n",
      " |      Number of ones in the binary representation of the absolute value of self.\n",
      " |      \n",
      " |      Also known as the population count.\n",
      " |      \n",
      " |      >>> bin(13)\n",
      " |      '0b1101'\n",
      " |      >>> (13).bit_count()\n",
      " |      3\n",
      " |  \n",
      " |  bit_length(self, /)\n",
      " |      Number of bits necessary to represent self in binary.\n",
      " |      \n",
      " |      >>> bin(37)\n",
      " |      '0b100101'\n",
      " |      >>> (37).bit_length()\n",
      " |      6\n",
      " |  \n",
      " |  conjugate(...)\n",
      " |      Returns self, the complex conjugate of any int.\n",
      " |  \n",
      " |  to_bytes(self, /, length, byteorder, *, signed=False)\n",
      " |      Return an array of bytes representing an integer.\n",
      " |      \n",
      " |      length\n",
      " |        Length of bytes object to use.  An OverflowError is raised if the\n",
      " |        integer is not representable with the given number of bytes.\n",
      " |      byteorder\n",
      " |        The byte order used to represent the integer.  If byteorder is 'big',\n",
      " |        the most significant byte is at the beginning of the byte array.  If\n",
      " |        byteorder is 'little', the most significant byte is at the end of the\n",
      " |        byte array.  To request the native byte order of the host system, use\n",
      " |        `sys.byteorder' as the byte order value.\n",
      " |      signed\n",
      " |        Determines whether two's complement is used to represent the integer.\n",
      " |        If signed is False and a negative integer is given, an OverflowError\n",
      " |        is raised.\n",
      " |  \n",
      " |  ----------------------------------------------------------------------\n",
      " |  Class methods defined here:\n",
      " |  \n",
      " |  from_bytes(bytes, byteorder, *, signed=False) from builtins.type\n",
      " |      Return the integer represented by the given array of bytes.\n",
      " |      \n",
      " |      bytes\n",
      " |        Holds the array of bytes to convert.  The argument must either\n",
      " |        support the buffer protocol or be an iterable object producing bytes.\n",
      " |        Bytes and bytearray are examples of built-in objects that support the\n",
      " |        buffer protocol.\n",
      " |      byteorder\n",
      " |        The byte order used to represent the integer.  If byteorder is 'big',\n",
      " |        the most significant byte is at the beginning of the byte array.  If\n",
      " |        byteorder is 'little', the most significant byte is at the end of the\n",
      " |        byte array.  To request the native byte order of the host system, use\n",
      " |        `sys.byteorder' as the byte order value.\n",
      " |      signed\n",
      " |        Indicates whether two's complement is used to represent the integer.\n",
      " |  \n",
      " |  ----------------------------------------------------------------------\n",
      " |  Static methods defined here:\n",
      " |  \n",
      " |  __new__(*args, **kwargs) from builtins.type\n",
      " |      Create and return a new object.  See help(type) for accurate signature.\n",
      " |  \n",
      " |  ----------------------------------------------------------------------\n",
      " |  Data descriptors defined here:\n",
      " |  \n",
      " |  denominator\n",
      " |      the denominator of a rational number in lowest terms\n",
      " |  \n",
      " |  imag\n",
      " |      the imaginary part of a complex number\n",
      " |  \n",
      " |  numerator\n",
      " |      the numerator of a rational number in lowest terms\n",
      " |  \n",
      " |  real\n",
      " |      the real part of a complex number\n",
      "\n"
     ]
    }
   ],
   "source": [
    "help(round(-2.01))"
   ]
  },
  {
   "cell_type": "markdown",
   "id": "433e25c5",
   "metadata": {
    "papermill": {
     "duration": 0.022457,
     "end_time": "2021-11-11T14:28:32.683700",
     "exception": false,
     "start_time": "2021-11-11T14:28:32.661243",
     "status": "completed"
    },
    "tags": []
   },
   "source": [
    "Python evaluates an expression like this from the inside out. First it calculates the value of `round(-2.01)`, then it provides help on the output of that expression.\n",
    "\n",
    "<small>(And it turns out to have a lot to say about integers! After we talk later about objects, methods, and attributes in Python, the help output above will make more sense.)</small>\n",
    "\n",
    "`round` is a very simple function with a short docstring. `help` shines even more when dealing with more complex, configurable functions like `print`. Don't worry if the following output looks inscrutable... for now, just see if you can pick anything new out from this help."
   ]
  },
  {
   "cell_type": "code",
   "execution_count": 5,
   "id": "3d6f98bc",
   "metadata": {
    "collapsed": true,
    "execution": {
     "iopub.execute_input": "2021-11-11T14:28:32.731728Z",
     "iopub.status.busy": "2021-11-11T14:28:32.730745Z",
     "iopub.status.idle": "2021-11-11T14:28:32.735708Z",
     "shell.execute_reply": "2021-11-11T14:28:32.736342Z"
    },
    "papermill": {
     "duration": 0.030748,
     "end_time": "2021-11-11T14:28:32.736516",
     "exception": false,
     "start_time": "2021-11-11T14:28:32.705768",
     "status": "completed"
    },
    "tags": []
   },
   "outputs": [
    {
     "name": "stdout",
     "output_type": "stream",
     "text": [
      "Help on built-in function print in module builtins:\n",
      "\n",
      "print(...)\n",
      "    print(value, ..., sep=' ', end='\\n', file=sys.stdout, flush=False)\n",
      "    \n",
      "    Prints the values to a stream, or to sys.stdout by default.\n",
      "    Optional keyword arguments:\n",
      "    file:  a file-like object (stream); defaults to the current sys.stdout.\n",
      "    sep:   string inserted between values, default a space.\n",
      "    end:   string appended after the last value, default a newline.\n",
      "    flush: whether to forcibly flush the stream.\n",
      "\n"
     ]
    }
   ],
   "source": [
    "help(print)"
   ]
  },
  {
   "cell_type": "markdown",
   "id": "ffe3d638",
   "metadata": {
    "papermill": {
     "duration": 0.022168,
     "end_time": "2021-11-11T14:28:32.781354",
     "exception": false,
     "start_time": "2021-11-11T14:28:32.759186",
     "status": "completed"
    },
    "tags": []
   },
   "source": [
    "If you were looking for it, you might learn that print can take an argument called `sep`, and that this describes what we put between all the other arguments when we print them."
   ]
  },
  {
   "cell_type": "markdown",
   "id": "8b998b0e",
   "metadata": {
    "papermill": {
     "duration": 0.023385,
     "end_time": "2021-11-11T14:28:33.134483",
     "exception": false,
     "start_time": "2021-11-11T14:28:33.111098",
     "status": "completed"
    },
    "tags": []
   },
   "source": [
    "### Docstrings\n",
    "Python isn't smart enough to read my code and turn it into a nice English description. However, when I write a function, I can provide a description in what's called the **docstring**."
   ]
  },
  {
   "cell_type": "code",
   "execution_count": 9,
   "id": "5322ead9",
   "metadata": {
    "collapsed": true,
    "execution": {
     "iopub.execute_input": "2021-11-11T14:28:33.192140Z",
     "iopub.status.busy": "2021-11-11T14:28:33.191037Z",
     "iopub.status.idle": "2021-11-11T14:28:33.197156Z",
     "shell.execute_reply": "2021-11-11T14:28:33.198057Z"
    },
    "papermill": {
     "duration": 0.036994,
     "end_time": "2021-11-11T14:28:33.198321",
     "exception": false,
     "start_time": "2021-11-11T14:28:33.161327",
     "status": "completed"
    },
    "tags": []
   },
   "outputs": [],
   "source": [
    "def least_difference(a, b, c):\n",
    "    \"\"\"Return the smallest difference between any two numbers\n",
    "    among a, b and c.\n",
    "    \n",
    "    >>> least_difference(1, 5, -5)\n",
    "    4\n",
    "    \"\"\"\n",
    "    diff1 = abs(a - b)\n",
    "    diff2 = abs(b - c)\n",
    "    diff3 = abs(a - c)\n",
    "    return min(diff1, diff2, diff3)"
   ]
  },
  {
   "cell_type": "markdown",
   "id": "9fe9e2c0",
   "metadata": {
    "papermill": {
     "duration": 0.031045,
     "end_time": "2021-11-11T14:28:33.262753",
     "exception": false,
     "start_time": "2021-11-11T14:28:33.231708",
     "status": "completed"
    },
    "tags": []
   },
   "source": [
    "The docstring is a triple-quoted string (which may span multiple lines) that comes immediately after the header of a function. When we call `help()` on a function, it shows the docstring."
   ]
  },
  {
   "cell_type": "code",
   "execution_count": 10,
   "id": "1211760d",
   "metadata": {
    "collapsed": true,
    "execution": {
     "iopub.execute_input": "2021-11-11T14:28:33.315155Z",
     "iopub.status.busy": "2021-11-11T14:28:33.314108Z",
     "iopub.status.idle": "2021-11-11T14:28:33.319326Z",
     "shell.execute_reply": "2021-11-11T14:28:33.319945Z"
    },
    "papermill": {
     "duration": 0.0331,
     "end_time": "2021-11-11T14:28:33.320137",
     "exception": false,
     "start_time": "2021-11-11T14:28:33.287037",
     "status": "completed"
    },
    "tags": []
   },
   "outputs": [
    {
     "name": "stdout",
     "output_type": "stream",
     "text": [
      "Help on function least_difference in module __main__:\n",
      "\n",
      "least_difference(a, b, c)\n",
      "    Return the smallest difference between any two numbers\n",
      "    among a, b and c.\n",
      "    \n",
      "    >>> least_difference(1, 5, -5)\n",
      "    4\n",
      "\n"
     ]
    }
   ],
   "source": [
    "help(least_difference)"
   ]
  },
  {
   "cell_type": "markdown",
   "id": "e0f8b296",
   "metadata": {
    "papermill": {
     "duration": 0.025594,
     "end_time": "2021-11-11T14:28:33.370046",
     "exception": false,
     "start_time": "2021-11-11T14:28:33.344452",
     "status": "completed"
    },
    "tags": []
   },
   "source": [
    "> **Aside:**\n",
    "> The last two lines of the docstring are an example function call and result. (The `>>>` is a reference to the command prompt used in Python interactive shells.) Python doesn't run the example call - it's just there for the benefit of the reader. The convention of including 1 or more example calls in a function's docstring is far from universally observed, but it can be very effective at helping someone understand your function. For a real-world example, see [this docstring for the numpy function `np.eye`](https://github.com/numpy/numpy/blob/v1.14.2/numpy/lib/twodim_base.py#L140-L194)."
   ]
  },
  {
   "cell_type": "markdown",
   "id": "04a4e065",
   "metadata": {
    "papermill": {
     "duration": 0.025855,
     "end_time": "2021-11-11T14:28:33.421627",
     "exception": false,
     "start_time": "2021-11-11T14:28:33.395772",
     "status": "completed"
    },
    "tags": []
   },
   "source": [
    "Good programmers use docstrings unless they expect to throw away the code soon after it's used (which is rare).  So, you should start writing docstrings, too!"
   ]
  },
  {
   "cell_type": "markdown",
   "id": "d2cd8a33",
   "metadata": {},
   "source": [
    "### Exercise\n",
    "Go back to the function you wrote at the begining of this notebook and add a docstring to it. Then, use the next cell to call `help` on your function."
   ]
  },
  {
   "cell_type": "code",
   "execution_count": null,
   "id": "01eb88b5",
   "metadata": {},
   "outputs": [],
   "source": [
    "# Add your code here\n"
   ]
  },
  {
   "cell_type": "markdown",
   "id": "e4de2675",
   "metadata": {
    "papermill": {
     "duration": 0.026259,
     "end_time": "2021-11-11T14:28:33.472921",
     "exception": false,
     "start_time": "2021-11-11T14:28:33.446662",
     "status": "completed"
    },
    "tags": []
   },
   "source": [
    "## Functions that don't return\n",
    "\n",
    "What would happen if we didn't include the `return` keyword in our function?"
   ]
  },
  {
   "cell_type": "code",
   "execution_count": 11,
   "id": "a545428f",
   "metadata": {
    "collapsed": true,
    "execution": {
     "iopub.execute_input": "2021-11-11T14:28:33.526677Z",
     "iopub.status.busy": "2021-11-11T14:28:33.525637Z",
     "iopub.status.idle": "2021-11-11T14:28:33.533683Z",
     "shell.execute_reply": "2021-11-11T14:28:33.534285Z"
    },
    "papermill": {
     "duration": 0.036155,
     "end_time": "2021-11-11T14:28:33.534464",
     "exception": false,
     "start_time": "2021-11-11T14:28:33.498309",
     "status": "completed"
    },
    "tags": []
   },
   "outputs": [
    {
     "name": "stdout",
     "output_type": "stream",
     "text": [
      "None None None\n"
     ]
    }
   ],
   "source": [
    "def least_difference(a, b, c):\n",
    "    \"\"\"Return the smallest difference between any two numbers\n",
    "    among a, b and c.\n",
    "    \"\"\"\n",
    "    diff1 = abs(a - b)\n",
    "    diff2 = abs(b - c)\n",
    "    diff3 = abs(a - c)\n",
    "    min(diff1, diff2, diff3)\n",
    "    \n",
    "print(\n",
    "    least_difference(1, 10, 100),\n",
    "    least_difference(1, 10, 10),\n",
    "    least_difference(5, 6, 7),\n",
    ")"
   ]
  },
  {
   "cell_type": "markdown",
   "id": "8000c18d",
   "metadata": {
    "papermill": {
     "duration": 0.025061,
     "end_time": "2021-11-11T14:28:33.584467",
     "exception": false,
     "start_time": "2021-11-11T14:28:33.559406",
     "status": "completed"
    },
    "tags": []
   },
   "source": [
    "Python allows us to define such functions. The result of calling them is the special value `None`. (This is similar to the concept of \"null\" in other languages.)\n",
    "\n",
    "Without a `return` statement, `least_difference` is completely pointless, but a function with side effects may do something useful without returning anything. We've already seen two examples of this: `print()` and `help()` don't return anything. We only call them for their side effects (putting some text on the screen). Other examples of useful side effects include writing to a file, or modifying an input."
   ]
  },
  {
   "cell_type": "code",
   "execution_count": 12,
   "id": "28ffe0c5",
   "metadata": {
    "collapsed": true,
    "execution": {
     "iopub.execute_input": "2021-11-11T14:28:33.640812Z",
     "iopub.status.busy": "2021-11-11T14:28:33.639780Z",
     "iopub.status.idle": "2021-11-11T14:28:33.645497Z",
     "shell.execute_reply": "2021-11-11T14:28:33.645971Z"
    },
    "papermill": {
     "duration": 0.035312,
     "end_time": "2021-11-11T14:28:33.646172",
     "exception": false,
     "start_time": "2021-11-11T14:28:33.610860",
     "status": "completed"
    },
    "tags": []
   },
   "outputs": [
    {
     "name": "stdout",
     "output_type": "stream",
     "text": [
      "\n",
      "None\n"
     ]
    }
   ],
   "source": [
    "mystery = print()\n",
    "print(mystery)"
   ]
  },
  {
   "cell_type": "markdown",
   "id": "bd858d40",
   "metadata": {
    "papermill": {
     "duration": 0.024708,
     "end_time": "2021-11-11T14:28:33.696133",
     "exception": false,
     "start_time": "2021-11-11T14:28:33.671425",
     "status": "completed"
    },
    "tags": []
   },
   "source": [
    "## Default arguments\n",
    "\n",
    "When we called `help(print)`, we saw that the `print` function has several optional arguments. For example, we can specify a value for `sep` to put some special string in between our printed arguments:"
   ]
  },
  {
   "cell_type": "code",
   "execution_count": 13,
   "id": "379d3f28",
   "metadata": {
    "collapsed": true,
    "execution": {
     "iopub.execute_input": "2021-11-11T14:28:33.752835Z",
     "iopub.status.busy": "2021-11-11T14:28:33.751792Z",
     "iopub.status.idle": "2021-11-11T14:28:33.756404Z",
     "shell.execute_reply": "2021-11-11T14:28:33.755568Z"
    },
    "papermill": {
     "duration": 0.034917,
     "end_time": "2021-11-11T14:28:33.756569",
     "exception": false,
     "start_time": "2021-11-11T14:28:33.721652",
     "status": "completed"
    },
    "tags": []
   },
   "outputs": [
    {
     "name": "stdout",
     "output_type": "stream",
     "text": [
      "1 < 2 < 3\n"
     ]
    }
   ],
   "source": [
    "print(1, 2, 3, sep=' < ')"
   ]
  },
  {
   "cell_type": "markdown",
   "id": "dac16f2a",
   "metadata": {
    "papermill": {
     "duration": 0.025378,
     "end_time": "2021-11-11T14:28:33.808558",
     "exception": false,
     "start_time": "2021-11-11T14:28:33.783180",
     "status": "completed"
    },
    "tags": []
   },
   "source": [
    "But if we don't specify a value, `sep` is treated as having a default value of `' '` (a single space)."
   ]
  },
  {
   "cell_type": "code",
   "execution_count": 14,
   "id": "500f32a4",
   "metadata": {
    "collapsed": true,
    "execution": {
     "iopub.execute_input": "2021-11-11T14:28:33.865693Z",
     "iopub.status.busy": "2021-11-11T14:28:33.864915Z",
     "iopub.status.idle": "2021-11-11T14:28:33.868450Z",
     "shell.execute_reply": "2021-11-11T14:28:33.867815Z"
    },
    "papermill": {
     "duration": 0.034136,
     "end_time": "2021-11-11T14:28:33.868587",
     "exception": false,
     "start_time": "2021-11-11T14:28:33.834451",
     "status": "completed"
    },
    "tags": []
   },
   "outputs": [
    {
     "name": "stdout",
     "output_type": "stream",
     "text": [
      "1 2 3\n"
     ]
    }
   ],
   "source": [
    "print(1, 2, 3)"
   ]
  },
  {
   "cell_type": "markdown",
   "id": "8b7e0ea2",
   "metadata": {
    "papermill": {
     "duration": 0.025781,
     "end_time": "2021-11-11T14:28:33.920631",
     "exception": false,
     "start_time": "2021-11-11T14:28:33.894850",
     "status": "completed"
    },
    "tags": []
   },
   "source": [
    "Adding optional arguments with default values to the functions we define turns out to be pretty easy:"
   ]
  },
  {
   "cell_type": "code",
   "execution_count": 15,
   "id": "0e144ede",
   "metadata": {
    "collapsed": true,
    "execution": {
     "iopub.execute_input": "2021-11-11T14:28:33.979396Z",
     "iopub.status.busy": "2021-11-11T14:28:33.978445Z",
     "iopub.status.idle": "2021-11-11T14:28:33.982201Z",
     "shell.execute_reply": "2021-11-11T14:28:33.982641Z"
    },
    "papermill": {
     "duration": 0.03569,
     "end_time": "2021-11-11T14:28:33.982812",
     "exception": false,
     "start_time": "2021-11-11T14:28:33.947122",
     "status": "completed"
    },
    "tags": []
   },
   "outputs": [
    {
     "name": "stdout",
     "output_type": "stream",
     "text": [
      "Hello, Colin\n",
      "Hello, Kaggle\n",
      "Hello, world\n"
     ]
    }
   ],
   "source": [
    "def greet(who=\"Colin\"):\n",
    "    print(\"Hello,\", who)\n",
    "    \n",
    "greet()\n",
    "greet(who=\"Kaggle\")\n",
    "# (In this case, we don't need to specify the name of the argument, because it's unambiguous.)\n",
    "greet(\"world\")"
   ]
  },
  {
   "cell_type": "markdown",
   "id": "42d9de1b",
   "metadata": {},
   "source": [
    "## Positional vs keyword arguments when calling a function"
   ]
  },
  {
   "cell_type": "markdown",
   "id": "3311c6dc",
   "metadata": {},
   "source": [
    "### Exercise\n",
    "Write a function which receives three numbers, multiplies the first number by 3, second number by 2, and thrid number by 1, adds them up and returns the result. Name the function *adder*."
   ]
  },
  {
   "cell_type": "code",
   "execution_count": null,
   "id": "691e918a",
   "metadata": {},
   "outputs": [],
   "source": [
    "# Add your code here"
   ]
  },
  {
   "cell_type": "markdown",
   "id": "5ea2778c",
   "metadata": {},
   "source": [
    "When calling a function, how does Python know which argument should be assigned to which variable in the function definition? Up to this point we have used `positional arguments` only. As the name suggests, they are attributed to the correct variable name by their position when the function is called. You can also use the name of variables in function definition when you are calling a function. Here is an example:\n",
    "\n",
    "```\n",
    "def calculate_surface(height, width):\n",
    "   return height * width\n",
    "\n",
    "# Calling the function using positional arguments:\n",
    ">>> calculate_surface(2, 3)\n",
    "6\n",
    "\n",
    "# Calling the function using keyword arguments:\n",
    ">>> calculate_surface(height=2, width=3)\n",
    "6"
   ]
  },
  {
   "cell_type": "markdown",
   "id": "0858a451",
   "metadata": {},
   "source": [
    "### Exercise\n",
    "Call the *adder* using both positional and keyword arguments and print the results."
   ]
  },
  {
   "cell_type": "code",
   "execution_count": null,
   "id": "694a9a83",
   "metadata": {},
   "outputs": [],
   "source": [
    "# Add your code here"
   ]
  },
  {
   "cell_type": "markdown",
   "id": "c9b2955c",
   "metadata": {
    "papermill": {
     "duration": 0.027173,
     "end_time": "2021-11-11T14:28:34.036591",
     "exception": false,
     "start_time": "2021-11-11T14:28:34.009418",
     "status": "completed"
    },
    "tags": []
   },
   "source": [
    "## Functions Applied to Functions\n",
    "\n",
    "Here's something that's powerful, though it can feel very abstract at first.  You can supply functions as arguments to other functions.  Some example may make this clearer:"
   ]
  },
  {
   "cell_type": "code",
   "execution_count": 16,
   "id": "0e7b210c",
   "metadata": {
    "collapsed": true,
    "execution": {
     "iopub.execute_input": "2021-11-11T14:28:34.097248Z",
     "iopub.status.busy": "2021-11-11T14:28:34.096419Z",
     "iopub.status.idle": "2021-11-11T14:28:34.099581Z",
     "shell.execute_reply": "2021-11-11T14:28:34.100100Z"
    },
    "papermill": {
     "duration": 0.037047,
     "end_time": "2021-11-11T14:28:34.100271",
     "exception": false,
     "start_time": "2021-11-11T14:28:34.063224",
     "status": "completed"
    },
    "tags": []
   },
   "outputs": [
    {
     "name": "stdout",
     "output_type": "stream",
     "text": [
      "5\n",
      "25\n"
     ]
    }
   ],
   "source": [
    "def mult_by_five(x):\n",
    "    return 5 * x\n",
    "\n",
    "def call(fn, arg):\n",
    "    \"\"\"Call fn on arg\"\"\"\n",
    "    return fn(arg)\n",
    "\n",
    "def squared_call(fn, arg):\n",
    "    \"\"\"Call fn on the result of calling fn on arg\"\"\"\n",
    "    return fn(fn(arg))\n",
    "\n",
    "print(\n",
    "    call(mult_by_five, 1),\n",
    "    squared_call(mult_by_five, 1), \n",
    "    sep='\\n', # '\\n' is the newline character - it starts a new line\n",
    ")"
   ]
  },
  {
   "cell_type": "markdown",
   "id": "5a7d8aba",
   "metadata": {
    "papermill": {
     "duration": 0.026724,
     "end_time": "2021-11-11T14:28:34.153984",
     "exception": false,
     "start_time": "2021-11-11T14:28:34.127260",
     "status": "completed"
    },
    "tags": []
   },
   "source": [
    "Functions that operate on other functions are called \"higher-order functions.\" You probably won't write your own for a little while. But there are higher-order functions built into Python that you might find useful to call. \n",
    "\n",
    "Here's an interesting example using the `max` function.\n",
    "\n",
    "By default, `max` returns the largest of its arguments. But if we pass in a function using the optional `key` argument, it returns the argument `x` that maximizes `key(x)` (aka the 'argmax')."
   ]
  },
  {
   "cell_type": "code",
   "execution_count": 17,
   "id": "3fe84c0d",
   "metadata": {
    "collapsed": true,
    "execution": {
     "iopub.execute_input": "2021-11-11T14:28:34.214832Z",
     "iopub.status.busy": "2021-11-11T14:28:34.214068Z",
     "iopub.status.idle": "2021-11-11T14:28:34.217264Z",
     "shell.execute_reply": "2021-11-11T14:28:34.217719Z"
    },
    "papermill": {
     "duration": 0.036781,
     "end_time": "2021-11-11T14:28:34.217889",
     "exception": false,
     "start_time": "2021-11-11T14:28:34.181108",
     "status": "completed"
    },
    "tags": []
   },
   "outputs": [
    {
     "name": "stdout",
     "output_type": "stream",
     "text": [
      "Which number is biggest?\n",
      "100\n",
      "Which number is the biggest modulo 5?\n",
      "14\n"
     ]
    }
   ],
   "source": [
    "def mod_5(x):\n",
    "    \"\"\"Return the remainder of x after dividing by 5\"\"\"\n",
    "    return x % 5\n",
    "\n",
    "print(\n",
    "    'Which number is biggest?',\n",
    "    max(100, 51, 14),\n",
    "    'Which number is the biggest modulo 5?',\n",
    "    max(100, 51, 14, key=mod_5),\n",
    "    sep='\\n',\n",
    ")"
   ]
  }
 ],
 "metadata": {
  "kernelspec": {
   "display_name": "Python 3.10.8 64-bit (microsoft store)",
   "language": "python",
   "name": "python3"
  },
  "language_info": {
   "codemirror_mode": {
    "name": "ipython",
    "version": 3
   },
   "file_extension": ".py",
   "mimetype": "text/x-python",
   "name": "python",
   "nbconvert_exporter": "python",
   "pygments_lexer": "ipython3",
   "version": "3.10.8"
  },
  "learntools_metadata": {
   "lesson_index": 1,
   "type": "tutorial"
  },
  "papermill": {
   "default_parameters": {},
   "duration": 12.218911,
   "end_time": "2021-11-11T14:28:34.964867",
   "environment_variables": {},
   "exception": null,
   "input_path": "__notebook__.ipynb",
   "output_path": "__notebook__.ipynb",
   "parameters": {},
   "start_time": "2021-11-11T14:28:22.745956",
   "version": "2.3.3"
  },
  "vscode": {
   "interpreter": {
    "hash": "1d6971dd49b9794e29936202b7e795af0a71863773ee7feabb9db3f4cad91916"
   }
  }
 },
 "nbformat": 4,
 "nbformat_minor": 5
}
